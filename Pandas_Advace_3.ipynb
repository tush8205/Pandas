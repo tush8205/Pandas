{
 "cells": [
  {
   "cell_type": "code",
   "execution_count": 1,
   "metadata": {},
   "outputs": [],
   "source": [
    "import pandas as pd"
   ]
  },
  {
   "cell_type": "code",
   "execution_count": 2,
   "metadata": {},
   "outputs": [],
   "source": [
    "data={\"a\":[1,2,3,4],\n",
    "      \"b\":[4,5,6,7],\n",
    "      \"c\":[\"tusha\",\"kriish\",\"hitu\",\"navin\"]\n",
    "        }"
   ]
  },
  {
   "cell_type": "code",
   "execution_count": 4,
   "metadata": {},
   "outputs": [],
   "source": [
    "df=pd.DataFrame(data)"
   ]
  },
  {
   "cell_type": "code",
   "execution_count": 5,
   "metadata": {},
   "outputs": [
    {
     "data": {
      "text/html": [
       "<div>\n",
       "<style scoped>\n",
       "    .dataframe tbody tr th:only-of-type {\n",
       "        vertical-align: middle;\n",
       "    }\n",
       "\n",
       "    .dataframe tbody tr th {\n",
       "        vertical-align: top;\n",
       "    }\n",
       "\n",
       "    .dataframe thead th {\n",
       "        text-align: right;\n",
       "    }\n",
       "</style>\n",
       "<table border=\"1\" class=\"dataframe\">\n",
       "  <thead>\n",
       "    <tr style=\"text-align: right;\">\n",
       "      <th></th>\n",
       "      <th>a</th>\n",
       "      <th>b</th>\n",
       "      <th>c</th>\n",
       "    </tr>\n",
       "  </thead>\n",
       "  <tbody>\n",
       "    <tr>\n",
       "      <th>0</th>\n",
       "      <td>1</td>\n",
       "      <td>4</td>\n",
       "      <td>tusha</td>\n",
       "    </tr>\n",
       "    <tr>\n",
       "      <th>1</th>\n",
       "      <td>2</td>\n",
       "      <td>5</td>\n",
       "      <td>kriish</td>\n",
       "    </tr>\n",
       "    <tr>\n",
       "      <th>2</th>\n",
       "      <td>3</td>\n",
       "      <td>6</td>\n",
       "      <td>hitu</td>\n",
       "    </tr>\n",
       "    <tr>\n",
       "      <th>3</th>\n",
       "      <td>4</td>\n",
       "      <td>7</td>\n",
       "      <td>navin</td>\n",
       "    </tr>\n",
       "  </tbody>\n",
       "</table>\n",
       "</div>"
      ],
      "text/plain": [
       "   a  b       c\n",
       "0  1  4   tusha\n",
       "1  2  5  kriish\n",
       "2  3  6    hitu\n",
       "3  4  7   navin"
      ]
     },
     "execution_count": 5,
     "metadata": {},
     "output_type": "execute_result"
    }
   ],
   "source": [
    "df"
   ]
  },
  {
   "cell_type": "code",
   "execution_count": 7,
   "metadata": {},
   "outputs": [],
   "source": [
    "df.set_index('a',inplace=True)"
   ]
  },
  {
   "cell_type": "code",
   "execution_count": 8,
   "metadata": {},
   "outputs": [
    {
     "data": {
      "text/html": [
       "<div>\n",
       "<style scoped>\n",
       "    .dataframe tbody tr th:only-of-type {\n",
       "        vertical-align: middle;\n",
       "    }\n",
       "\n",
       "    .dataframe tbody tr th {\n",
       "        vertical-align: top;\n",
       "    }\n",
       "\n",
       "    .dataframe thead th {\n",
       "        text-align: right;\n",
       "    }\n",
       "</style>\n",
       "<table border=\"1\" class=\"dataframe\">\n",
       "  <thead>\n",
       "    <tr style=\"text-align: right;\">\n",
       "      <th></th>\n",
       "      <th>b</th>\n",
       "      <th>c</th>\n",
       "    </tr>\n",
       "    <tr>\n",
       "      <th>a</th>\n",
       "      <th></th>\n",
       "      <th></th>\n",
       "    </tr>\n",
       "  </thead>\n",
       "  <tbody>\n",
       "    <tr>\n",
       "      <th>1</th>\n",
       "      <td>4</td>\n",
       "      <td>tusha</td>\n",
       "    </tr>\n",
       "    <tr>\n",
       "      <th>2</th>\n",
       "      <td>5</td>\n",
       "      <td>kriish</td>\n",
       "    </tr>\n",
       "    <tr>\n",
       "      <th>3</th>\n",
       "      <td>6</td>\n",
       "      <td>hitu</td>\n",
       "    </tr>\n",
       "    <tr>\n",
       "      <th>4</th>\n",
       "      <td>7</td>\n",
       "      <td>navin</td>\n",
       "    </tr>\n",
       "  </tbody>\n",
       "</table>\n",
       "</div>"
      ],
      "text/plain": [
       "   b       c\n",
       "a           \n",
       "1  4   tusha\n",
       "2  5  kriish\n",
       "3  6    hitu\n",
       "4  7   navin"
      ]
     },
     "execution_count": 8,
     "metadata": {},
     "output_type": "execute_result"
    }
   ],
   "source": [
    "df"
   ]
  },
  {
   "cell_type": "code",
   "execution_count": 9,
   "metadata": {},
   "outputs": [
    {
     "data": {
      "text/html": [
       "<div>\n",
       "<style scoped>\n",
       "    .dataframe tbody tr th:only-of-type {\n",
       "        vertical-align: middle;\n",
       "    }\n",
       "\n",
       "    .dataframe tbody tr th {\n",
       "        vertical-align: top;\n",
       "    }\n",
       "\n",
       "    .dataframe thead th {\n",
       "        text-align: right;\n",
       "    }\n",
       "</style>\n",
       "<table border=\"1\" class=\"dataframe\">\n",
       "  <thead>\n",
       "    <tr style=\"text-align: right;\">\n",
       "      <th></th>\n",
       "      <th>a</th>\n",
       "      <th>b</th>\n",
       "      <th>c</th>\n",
       "    </tr>\n",
       "  </thead>\n",
       "  <tbody>\n",
       "    <tr>\n",
       "      <th>0</th>\n",
       "      <td>1</td>\n",
       "      <td>4</td>\n",
       "      <td>tusha</td>\n",
       "    </tr>\n",
       "    <tr>\n",
       "      <th>1</th>\n",
       "      <td>2</td>\n",
       "      <td>5</td>\n",
       "      <td>kriish</td>\n",
       "    </tr>\n",
       "    <tr>\n",
       "      <th>2</th>\n",
       "      <td>3</td>\n",
       "      <td>6</td>\n",
       "      <td>hitu</td>\n",
       "    </tr>\n",
       "    <tr>\n",
       "      <th>3</th>\n",
       "      <td>4</td>\n",
       "      <td>7</td>\n",
       "      <td>navin</td>\n",
       "    </tr>\n",
       "  </tbody>\n",
       "</table>\n",
       "</div>"
      ],
      "text/plain": [
       "   a  b       c\n",
       "0  1  4   tusha\n",
       "1  2  5  kriish\n",
       "2  3  6    hitu\n",
       "3  4  7   navin"
      ]
     },
     "execution_count": 9,
     "metadata": {},
     "output_type": "execute_result"
    }
   ],
   "source": [
    "df.reset_index()"
   ]
  },
  {
   "cell_type": "code",
   "execution_count": 12,
   "metadata": {},
   "outputs": [],
   "source": [
    "data={\"a\":[1,2,3,4],\n",
    "      \"b\":[4,5,6,7],\n",
    "      \"c\":[\"tusha\",\"kriish\",\"hitu\",\"navin\"]\n",
    "        }\n",
    "df1=pd.DataFrame(data,index=['a','b','c','d'])"
   ]
  },
  {
   "cell_type": "code",
   "execution_count": 13,
   "metadata": {},
   "outputs": [
    {
     "data": {
      "text/html": [
       "<div>\n",
       "<style scoped>\n",
       "    .dataframe tbody tr th:only-of-type {\n",
       "        vertical-align: middle;\n",
       "    }\n",
       "\n",
       "    .dataframe tbody tr th {\n",
       "        vertical-align: top;\n",
       "    }\n",
       "\n",
       "    .dataframe thead th {\n",
       "        text-align: right;\n",
       "    }\n",
       "</style>\n",
       "<table border=\"1\" class=\"dataframe\">\n",
       "  <thead>\n",
       "    <tr style=\"text-align: right;\">\n",
       "      <th></th>\n",
       "      <th>a</th>\n",
       "      <th>b</th>\n",
       "      <th>c</th>\n",
       "    </tr>\n",
       "  </thead>\n",
       "  <tbody>\n",
       "    <tr>\n",
       "      <th>a</th>\n",
       "      <td>1</td>\n",
       "      <td>4</td>\n",
       "      <td>tusha</td>\n",
       "    </tr>\n",
       "    <tr>\n",
       "      <th>b</th>\n",
       "      <td>2</td>\n",
       "      <td>5</td>\n",
       "      <td>kriish</td>\n",
       "    </tr>\n",
       "    <tr>\n",
       "      <th>c</th>\n",
       "      <td>3</td>\n",
       "      <td>6</td>\n",
       "      <td>hitu</td>\n",
       "    </tr>\n",
       "    <tr>\n",
       "      <th>d</th>\n",
       "      <td>4</td>\n",
       "      <td>7</td>\n",
       "      <td>navin</td>\n",
       "    </tr>\n",
       "  </tbody>\n",
       "</table>\n",
       "</div>"
      ],
      "text/plain": [
       "   a  b       c\n",
       "a  1  4   tusha\n",
       "b  2  5  kriish\n",
       "c  3  6    hitu\n",
       "d  4  7   navin"
      ]
     },
     "execution_count": 13,
     "metadata": {},
     "output_type": "execute_result"
    }
   ],
   "source": [
    "df1"
   ]
  },
  {
   "cell_type": "code",
   "execution_count": 14,
   "metadata": {},
   "outputs": [
    {
     "data": {
      "text/html": [
       "<div>\n",
       "<style scoped>\n",
       "    .dataframe tbody tr th:only-of-type {\n",
       "        vertical-align: middle;\n",
       "    }\n",
       "\n",
       "    .dataframe tbody tr th {\n",
       "        vertical-align: top;\n",
       "    }\n",
       "\n",
       "    .dataframe thead th {\n",
       "        text-align: right;\n",
       "    }\n",
       "</style>\n",
       "<table border=\"1\" class=\"dataframe\">\n",
       "  <thead>\n",
       "    <tr style=\"text-align: right;\">\n",
       "      <th></th>\n",
       "      <th>a</th>\n",
       "      <th>b</th>\n",
       "      <th>c</th>\n",
       "    </tr>\n",
       "  </thead>\n",
       "  <tbody>\n",
       "    <tr>\n",
       "      <th>b</th>\n",
       "      <td>2</td>\n",
       "      <td>5</td>\n",
       "      <td>kriish</td>\n",
       "    </tr>\n",
       "    <tr>\n",
       "      <th>c</th>\n",
       "      <td>3</td>\n",
       "      <td>6</td>\n",
       "      <td>hitu</td>\n",
       "    </tr>\n",
       "    <tr>\n",
       "      <th>d</th>\n",
       "      <td>4</td>\n",
       "      <td>7</td>\n",
       "      <td>navin</td>\n",
       "    </tr>\n",
       "    <tr>\n",
       "      <th>a</th>\n",
       "      <td>1</td>\n",
       "      <td>4</td>\n",
       "      <td>tusha</td>\n",
       "    </tr>\n",
       "  </tbody>\n",
       "</table>\n",
       "</div>"
      ],
      "text/plain": [
       "   a  b       c\n",
       "b  2  5  kriish\n",
       "c  3  6    hitu\n",
       "d  4  7   navin\n",
       "a  1  4   tusha"
      ]
     },
     "execution_count": 14,
     "metadata": {},
     "output_type": "execute_result"
    }
   ],
   "source": [
    "df1.reindex(['b','c','d','a'])"
   ]
  },
  {
   "cell_type": "code",
   "execution_count": 15,
   "metadata": {},
   "outputs": [],
   "source": [
    "df1=df1.reindex(['b','c','d','a'])"
   ]
  },
  {
   "cell_type": "code",
   "execution_count": 16,
   "metadata": {},
   "outputs": [
    {
     "data": {
      "text/html": [
       "<div>\n",
       "<style scoped>\n",
       "    .dataframe tbody tr th:only-of-type {\n",
       "        vertical-align: middle;\n",
       "    }\n",
       "\n",
       "    .dataframe tbody tr th {\n",
       "        vertical-align: top;\n",
       "    }\n",
       "\n",
       "    .dataframe thead th {\n",
       "        text-align: right;\n",
       "    }\n",
       "</style>\n",
       "<table border=\"1\" class=\"dataframe\">\n",
       "  <thead>\n",
       "    <tr style=\"text-align: right;\">\n",
       "      <th></th>\n",
       "      <th>a</th>\n",
       "      <th>b</th>\n",
       "      <th>c</th>\n",
       "    </tr>\n",
       "  </thead>\n",
       "  <tbody>\n",
       "    <tr>\n",
       "      <th>b</th>\n",
       "      <td>2</td>\n",
       "      <td>5</td>\n",
       "      <td>kriish</td>\n",
       "    </tr>\n",
       "    <tr>\n",
       "      <th>c</th>\n",
       "      <td>3</td>\n",
       "      <td>6</td>\n",
       "      <td>hitu</td>\n",
       "    </tr>\n",
       "    <tr>\n",
       "      <th>d</th>\n",
       "      <td>4</td>\n",
       "      <td>7</td>\n",
       "      <td>navin</td>\n",
       "    </tr>\n",
       "    <tr>\n",
       "      <th>a</th>\n",
       "      <td>1</td>\n",
       "      <td>4</td>\n",
       "      <td>tusha</td>\n",
       "    </tr>\n",
       "  </tbody>\n",
       "</table>\n",
       "</div>"
      ],
      "text/plain": [
       "   a  b       c\n",
       "b  2  5  kriish\n",
       "c  3  6    hitu\n",
       "d  4  7   navin\n",
       "a  1  4   tusha"
      ]
     },
     "execution_count": 16,
     "metadata": {},
     "output_type": "execute_result"
    }
   ],
   "source": [
    "df1"
   ]
  },
  {
   "cell_type": "code",
   "execution_count": 17,
   "metadata": {},
   "outputs": [
    {
     "data": {
      "text/html": [
       "<div>\n",
       "<style scoped>\n",
       "    .dataframe tbody tr th:only-of-type {\n",
       "        vertical-align: middle;\n",
       "    }\n",
       "\n",
       "    .dataframe tbody tr th {\n",
       "        vertical-align: top;\n",
       "    }\n",
       "\n",
       "    .dataframe thead th {\n",
       "        text-align: right;\n",
       "    }\n",
       "</style>\n",
       "<table border=\"1\" class=\"dataframe\">\n",
       "  <thead>\n",
       "    <tr style=\"text-align: right;\">\n",
       "      <th></th>\n",
       "      <th>a</th>\n",
       "      <th>b</th>\n",
       "      <th>c</th>\n",
       "    </tr>\n",
       "  </thead>\n",
       "  <tbody>\n",
       "    <tr>\n",
       "      <th>b</th>\n",
       "      <td>2</td>\n",
       "      <td>5</td>\n",
       "      <td>kriish</td>\n",
       "    </tr>\n",
       "    <tr>\n",
       "      <th>c</th>\n",
       "      <td>3</td>\n",
       "      <td>6</td>\n",
       "      <td>hitu</td>\n",
       "    </tr>\n",
       "    <tr>\n",
       "      <th>d</th>\n",
       "      <td>4</td>\n",
       "      <td>7</td>\n",
       "      <td>navin</td>\n",
       "    </tr>\n",
       "    <tr>\n",
       "      <th>a</th>\n",
       "      <td>1</td>\n",
       "      <td>4</td>\n",
       "      <td>tusha</td>\n",
       "    </tr>\n",
       "  </tbody>\n",
       "</table>\n",
       "</div>"
      ],
      "text/plain": [
       "   a  b       c\n",
       "b  2  5  kriish\n",
       "c  3  6    hitu\n",
       "d  4  7   navin\n",
       "a  1  4   tusha"
      ]
     },
     "execution_count": 17,
     "metadata": {},
     "output_type": "execute_result"
    }
   ],
   "source": [
    "df1.reindex(['b','c','d','a'])"
   ]
  },
  {
   "cell_type": "code",
   "execution_count": 18,
   "metadata": {},
   "outputs": [
    {
     "data": {
      "text/html": [
       "<div>\n",
       "<style scoped>\n",
       "    .dataframe tbody tr th:only-of-type {\n",
       "        vertical-align: middle;\n",
       "    }\n",
       "\n",
       "    .dataframe tbody tr th {\n",
       "        vertical-align: top;\n",
       "    }\n",
       "\n",
       "    .dataframe thead th {\n",
       "        text-align: right;\n",
       "    }\n",
       "</style>\n",
       "<table border=\"1\" class=\"dataframe\">\n",
       "  <thead>\n",
       "    <tr style=\"text-align: right;\">\n",
       "      <th></th>\n",
       "      <th>index</th>\n",
       "      <th>a</th>\n",
       "      <th>b</th>\n",
       "      <th>c</th>\n",
       "    </tr>\n",
       "  </thead>\n",
       "  <tbody>\n",
       "    <tr>\n",
       "      <th>0</th>\n",
       "      <td>b</td>\n",
       "      <td>2</td>\n",
       "      <td>5</td>\n",
       "      <td>kriish</td>\n",
       "    </tr>\n",
       "    <tr>\n",
       "      <th>1</th>\n",
       "      <td>c</td>\n",
       "      <td>3</td>\n",
       "      <td>6</td>\n",
       "      <td>hitu</td>\n",
       "    </tr>\n",
       "    <tr>\n",
       "      <th>2</th>\n",
       "      <td>d</td>\n",
       "      <td>4</td>\n",
       "      <td>7</td>\n",
       "      <td>navin</td>\n",
       "    </tr>\n",
       "    <tr>\n",
       "      <th>3</th>\n",
       "      <td>a</td>\n",
       "      <td>1</td>\n",
       "      <td>4</td>\n",
       "      <td>tusha</td>\n",
       "    </tr>\n",
       "  </tbody>\n",
       "</table>\n",
       "</div>"
      ],
      "text/plain": [
       "  index  a  b       c\n",
       "0     b  2  5  kriish\n",
       "1     c  3  6    hitu\n",
       "2     d  4  7   navin\n",
       "3     a  1  4   tusha"
      ]
     },
     "execution_count": 18,
     "metadata": {},
     "output_type": "execute_result"
    }
   ],
   "source": [
    "df1.reset_index()"
   ]
  },
  {
   "cell_type": "code",
   "execution_count": 19,
   "metadata": {},
   "outputs": [
    {
     "name": "stdout",
     "output_type": "stream",
     "text": [
      "('b', a         2\n",
      "b         5\n",
      "c    kriish\n",
      "Name: b, dtype: object)\n",
      "('c', a       3\n",
      "b       6\n",
      "c    hitu\n",
      "Name: c, dtype: object)\n",
      "('d', a        4\n",
      "b        7\n",
      "c    navin\n",
      "Name: d, dtype: object)\n",
      "('a', a        1\n",
      "b        4\n",
      "c    tusha\n",
      "Name: a, dtype: object)\n"
     ]
    }
   ],
   "source": [
    "for i in df1.iterrows():\n",
    "    print(i)"
   ]
  },
  {
   "cell_type": "code",
   "execution_count": 20,
   "metadata": {},
   "outputs": [
    {
     "name": "stdout",
     "output_type": "stream",
     "text": [
      "b a         2\n",
      "b         5\n",
      "c    kriish\n",
      "Name: b, dtype: object\n",
      "c a       3\n",
      "b       6\n",
      "c    hitu\n",
      "Name: c, dtype: object\n",
      "d a        4\n",
      "b        7\n",
      "c    navin\n",
      "Name: d, dtype: object\n",
      "a a        1\n",
      "b        4\n",
      "c    tusha\n",
      "Name: a, dtype: object\n"
     ]
    }
   ],
   "source": [
    "for i,j in df1.iterrows():\n",
    "    print(i,j)"
   ]
  },
  {
   "cell_type": "code",
   "execution_count": 22,
   "metadata": {},
   "outputs": [
    {
     "name": "stdout",
     "output_type": "stream",
     "text": [
      "('a', b    2\n",
      "c    3\n",
      "d    4\n",
      "a    1\n",
      "Name: a, dtype: int64)\n",
      "('b', b    5\n",
      "c    6\n",
      "d    7\n",
      "a    4\n",
      "Name: b, dtype: int64)\n",
      "('c', b    kriish\n",
      "c      hitu\n",
      "d     navin\n",
      "a     tusha\n",
      "Name: c, dtype: object)\n"
     ]
    },
    {
     "name": "stderr",
     "output_type": "stream",
     "text": [
      "C:\\Users\\tushar.ahire01\\AppData\\Local\\Temp\\ipykernel_31412\\549805685.py:1: FutureWarning: iteritems is deprecated and will be removed in a future version. Use .items instead.\n",
      "  for i in df1.iteritems():\n"
     ]
    }
   ],
   "source": [
    "for i in df1.iteritems():#col_name , column\n",
    "    print(i)"
   ]
  },
  {
   "cell_type": "code",
   "execution_count": 30,
   "metadata": {},
   "outputs": [
    {
     "data": {
      "text/plain": [
       "[2, 3, 4, 1]"
      ]
     },
     "execution_count": 30,
     "metadata": {},
     "output_type": "execute_result"
    }
   ],
   "source": [
    "list(df1['a'])"
   ]
  },
  {
   "cell_type": "code",
   "execution_count": 33,
   "metadata": {},
   "outputs": [
    {
     "data": {
      "text/plain": [
       "a                      10\n",
       "b                      22\n",
       "c    kriishhitunavintusha\n",
       "dtype: object"
      ]
     },
     "execution_count": 33,
     "metadata": {},
     "output_type": "execute_result"
    }
   ],
   "source": [
    "def test(x):\n",
    "    return x.sum()\n",
    "df1.apply(test,axis=0)"
   ]
  },
  {
   "cell_type": "code",
   "execution_count": 36,
   "metadata": {},
   "outputs": [],
   "source": [
    "df2=df1[['a','b']]"
   ]
  },
  {
   "cell_type": "code",
   "execution_count": 37,
   "metadata": {},
   "outputs": [
    {
     "data": {
      "text/html": [
       "<div>\n",
       "<style scoped>\n",
       "    .dataframe tbody tr th:only-of-type {\n",
       "        vertical-align: middle;\n",
       "    }\n",
       "\n",
       "    .dataframe tbody tr th {\n",
       "        vertical-align: top;\n",
       "    }\n",
       "\n",
       "    .dataframe thead th {\n",
       "        text-align: right;\n",
       "    }\n",
       "</style>\n",
       "<table border=\"1\" class=\"dataframe\">\n",
       "  <thead>\n",
       "    <tr style=\"text-align: right;\">\n",
       "      <th></th>\n",
       "      <th>a</th>\n",
       "      <th>b</th>\n",
       "    </tr>\n",
       "  </thead>\n",
       "  <tbody>\n",
       "    <tr>\n",
       "      <th>b</th>\n",
       "      <td>2</td>\n",
       "      <td>5</td>\n",
       "    </tr>\n",
       "    <tr>\n",
       "      <th>c</th>\n",
       "      <td>3</td>\n",
       "      <td>6</td>\n",
       "    </tr>\n",
       "    <tr>\n",
       "      <th>d</th>\n",
       "      <td>4</td>\n",
       "      <td>7</td>\n",
       "    </tr>\n",
       "    <tr>\n",
       "      <th>a</th>\n",
       "      <td>1</td>\n",
       "      <td>4</td>\n",
       "    </tr>\n",
       "  </tbody>\n",
       "</table>\n",
       "</div>"
      ],
      "text/plain": [
       "   a  b\n",
       "b  2  5\n",
       "c  3  6\n",
       "d  4  7\n",
       "a  1  4"
      ]
     },
     "execution_count": 37,
     "metadata": {},
     "output_type": "execute_result"
    }
   ],
   "source": [
    "df2"
   ]
  },
  {
   "cell_type": "code",
   "execution_count": 38,
   "metadata": {},
   "outputs": [
    {
     "data": {
      "text/html": [
       "<div>\n",
       "<style scoped>\n",
       "    .dataframe tbody tr th:only-of-type {\n",
       "        vertical-align: middle;\n",
       "    }\n",
       "\n",
       "    .dataframe tbody tr th {\n",
       "        vertical-align: top;\n",
       "    }\n",
       "\n",
       "    .dataframe thead th {\n",
       "        text-align: right;\n",
       "    }\n",
       "</style>\n",
       "<table border=\"1\" class=\"dataframe\">\n",
       "  <thead>\n",
       "    <tr style=\"text-align: right;\">\n",
       "      <th></th>\n",
       "      <th>a</th>\n",
       "      <th>b</th>\n",
       "    </tr>\n",
       "  </thead>\n",
       "  <tbody>\n",
       "    <tr>\n",
       "      <th>b</th>\n",
       "      <td>4</td>\n",
       "      <td>25</td>\n",
       "    </tr>\n",
       "    <tr>\n",
       "      <th>c</th>\n",
       "      <td>9</td>\n",
       "      <td>36</td>\n",
       "    </tr>\n",
       "    <tr>\n",
       "      <th>d</th>\n",
       "      <td>16</td>\n",
       "      <td>49</td>\n",
       "    </tr>\n",
       "    <tr>\n",
       "      <th>a</th>\n",
       "      <td>1</td>\n",
       "      <td>16</td>\n",
       "    </tr>\n",
       "  </tbody>\n",
       "</table>\n",
       "</div>"
      ],
      "text/plain": [
       "    a   b\n",
       "b   4  25\n",
       "c   9  36\n",
       "d  16  49\n",
       "a   1  16"
      ]
     },
     "execution_count": 38,
     "metadata": {},
     "output_type": "execute_result"
    }
   ],
   "source": [
    "df2.applymap(lambda x: x**2)"
   ]
  },
  {
   "cell_type": "code",
   "execution_count": 39,
   "metadata": {},
   "outputs": [
    {
     "data": {
      "text/html": [
       "<div>\n",
       "<style scoped>\n",
       "    .dataframe tbody tr th:only-of-type {\n",
       "        vertical-align: middle;\n",
       "    }\n",
       "\n",
       "    .dataframe tbody tr th {\n",
       "        vertical-align: top;\n",
       "    }\n",
       "\n",
       "    .dataframe thead th {\n",
       "        text-align: right;\n",
       "    }\n",
       "</style>\n",
       "<table border=\"1\" class=\"dataframe\">\n",
       "  <thead>\n",
       "    <tr style=\"text-align: right;\">\n",
       "      <th></th>\n",
       "      <th>a</th>\n",
       "      <th>b</th>\n",
       "      <th>c</th>\n",
       "    </tr>\n",
       "  </thead>\n",
       "  <tbody>\n",
       "    <tr>\n",
       "      <th>b</th>\n",
       "      <td>2</td>\n",
       "      <td>5</td>\n",
       "      <td>kriish</td>\n",
       "    </tr>\n",
       "    <tr>\n",
       "      <th>c</th>\n",
       "      <td>3</td>\n",
       "      <td>6</td>\n",
       "      <td>hitu</td>\n",
       "    </tr>\n",
       "    <tr>\n",
       "      <th>d</th>\n",
       "      <td>4</td>\n",
       "      <td>7</td>\n",
       "      <td>navin</td>\n",
       "    </tr>\n",
       "    <tr>\n",
       "      <th>a</th>\n",
       "      <td>1</td>\n",
       "      <td>4</td>\n",
       "      <td>tusha</td>\n",
       "    </tr>\n",
       "  </tbody>\n",
       "</table>\n",
       "</div>"
      ],
      "text/plain": [
       "   a  b       c\n",
       "b  2  5  kriish\n",
       "c  3  6    hitu\n",
       "d  4  7   navin\n",
       "a  1  4   tusha"
      ]
     },
     "execution_count": 39,
     "metadata": {},
     "output_type": "execute_result"
    }
   ],
   "source": [
    "df1"
   ]
  },
  {
   "cell_type": "code",
   "execution_count": 40,
   "metadata": {},
   "outputs": [
    {
     "data": {
      "text/html": [
       "<div>\n",
       "<style scoped>\n",
       "    .dataframe tbody tr th:only-of-type {\n",
       "        vertical-align: middle;\n",
       "    }\n",
       "\n",
       "    .dataframe tbody tr th {\n",
       "        vertical-align: top;\n",
       "    }\n",
       "\n",
       "    .dataframe thead th {\n",
       "        text-align: right;\n",
       "    }\n",
       "</style>\n",
       "<table border=\"1\" class=\"dataframe\">\n",
       "  <thead>\n",
       "    <tr style=\"text-align: right;\">\n",
       "      <th></th>\n",
       "      <th>a</th>\n",
       "      <th>b</th>\n",
       "      <th>c</th>\n",
       "    </tr>\n",
       "  </thead>\n",
       "  <tbody>\n",
       "    <tr>\n",
       "      <th>a</th>\n",
       "      <td>1</td>\n",
       "      <td>4</td>\n",
       "      <td>tusha</td>\n",
       "    </tr>\n",
       "    <tr>\n",
       "      <th>b</th>\n",
       "      <td>2</td>\n",
       "      <td>5</td>\n",
       "      <td>kriish</td>\n",
       "    </tr>\n",
       "    <tr>\n",
       "      <th>c</th>\n",
       "      <td>3</td>\n",
       "      <td>6</td>\n",
       "      <td>hitu</td>\n",
       "    </tr>\n",
       "    <tr>\n",
       "      <th>d</th>\n",
       "      <td>4</td>\n",
       "      <td>7</td>\n",
       "      <td>navin</td>\n",
       "    </tr>\n",
       "  </tbody>\n",
       "</table>\n",
       "</div>"
      ],
      "text/plain": [
       "   a  b       c\n",
       "a  1  4   tusha\n",
       "b  2  5  kriish\n",
       "c  3  6    hitu\n",
       "d  4  7   navin"
      ]
     },
     "execution_count": 40,
     "metadata": {},
     "output_type": "execute_result"
    }
   ],
   "source": [
    "df1.sort_values('a')"
   ]
  },
  {
   "cell_type": "code",
   "execution_count": 41,
   "metadata": {},
   "outputs": [
    {
     "data": {
      "text/html": [
       "<div>\n",
       "<style scoped>\n",
       "    .dataframe tbody tr th:only-of-type {\n",
       "        vertical-align: middle;\n",
       "    }\n",
       "\n",
       "    .dataframe tbody tr th {\n",
       "        vertical-align: top;\n",
       "    }\n",
       "\n",
       "    .dataframe thead th {\n",
       "        text-align: right;\n",
       "    }\n",
       "</style>\n",
       "<table border=\"1\" class=\"dataframe\">\n",
       "  <thead>\n",
       "    <tr style=\"text-align: right;\">\n",
       "      <th></th>\n",
       "      <th>a</th>\n",
       "      <th>b</th>\n",
       "      <th>c</th>\n",
       "    </tr>\n",
       "  </thead>\n",
       "  <tbody>\n",
       "    <tr>\n",
       "      <th>c</th>\n",
       "      <td>3</td>\n",
       "      <td>6</td>\n",
       "      <td>hitu</td>\n",
       "    </tr>\n",
       "    <tr>\n",
       "      <th>b</th>\n",
       "      <td>2</td>\n",
       "      <td>5</td>\n",
       "      <td>kriish</td>\n",
       "    </tr>\n",
       "    <tr>\n",
       "      <th>d</th>\n",
       "      <td>4</td>\n",
       "      <td>7</td>\n",
       "      <td>navin</td>\n",
       "    </tr>\n",
       "    <tr>\n",
       "      <th>a</th>\n",
       "      <td>1</td>\n",
       "      <td>4</td>\n",
       "      <td>tusha</td>\n",
       "    </tr>\n",
       "  </tbody>\n",
       "</table>\n",
       "</div>"
      ],
      "text/plain": [
       "   a  b       c\n",
       "c  3  6    hitu\n",
       "b  2  5  kriish\n",
       "d  4  7   navin\n",
       "a  1  4   tusha"
      ]
     },
     "execution_count": 41,
     "metadata": {},
     "output_type": "execute_result"
    }
   ],
   "source": [
    "df1.sort_values('c')"
   ]
  },
  {
   "cell_type": "code",
   "execution_count": 42,
   "metadata": {},
   "outputs": [
    {
     "data": {
      "text/html": [
       "<div>\n",
       "<style scoped>\n",
       "    .dataframe tbody tr th:only-of-type {\n",
       "        vertical-align: middle;\n",
       "    }\n",
       "\n",
       "    .dataframe tbody tr th {\n",
       "        vertical-align: top;\n",
       "    }\n",
       "\n",
       "    .dataframe thead th {\n",
       "        text-align: right;\n",
       "    }\n",
       "</style>\n",
       "<table border=\"1\" class=\"dataframe\">\n",
       "  <thead>\n",
       "    <tr style=\"text-align: right;\">\n",
       "      <th></th>\n",
       "      <th>b</th>\n",
       "      <th>c</th>\n",
       "    </tr>\n",
       "    <tr>\n",
       "      <th>a</th>\n",
       "      <th></th>\n",
       "      <th></th>\n",
       "    </tr>\n",
       "  </thead>\n",
       "  <tbody>\n",
       "    <tr>\n",
       "      <th>1</th>\n",
       "      <td>4</td>\n",
       "      <td>tusha</td>\n",
       "    </tr>\n",
       "    <tr>\n",
       "      <th>2</th>\n",
       "      <td>5</td>\n",
       "      <td>kriish</td>\n",
       "    </tr>\n",
       "    <tr>\n",
       "      <th>3</th>\n",
       "      <td>6</td>\n",
       "      <td>hitu</td>\n",
       "    </tr>\n",
       "    <tr>\n",
       "      <th>4</th>\n",
       "      <td>7</td>\n",
       "      <td>navin</td>\n",
       "    </tr>\n",
       "  </tbody>\n",
       "</table>\n",
       "</div>"
      ],
      "text/plain": [
       "   b       c\n",
       "a           \n",
       "1  4   tusha\n",
       "2  5  kriish\n",
       "3  6    hitu\n",
       "4  7   navin"
      ]
     },
     "execution_count": 42,
     "metadata": {},
     "output_type": "execute_result"
    }
   ],
   "source": [
    "df"
   ]
  },
  {
   "cell_type": "code",
   "execution_count": 44,
   "metadata": {},
   "outputs": [
    {
     "data": {
      "text/html": [
       "<div>\n",
       "<style scoped>\n",
       "    .dataframe tbody tr th:only-of-type {\n",
       "        vertical-align: middle;\n",
       "    }\n",
       "\n",
       "    .dataframe tbody tr th {\n",
       "        vertical-align: top;\n",
       "    }\n",
       "\n",
       "    .dataframe thead th {\n",
       "        text-align: right;\n",
       "    }\n",
       "</style>\n",
       "<table border=\"1\" class=\"dataframe\">\n",
       "  <thead>\n",
       "    <tr style=\"text-align: right;\">\n",
       "      <th></th>\n",
       "      <th>b</th>\n",
       "      <th>c</th>\n",
       "    </tr>\n",
       "    <tr>\n",
       "      <th>a</th>\n",
       "      <th></th>\n",
       "      <th></th>\n",
       "    </tr>\n",
       "  </thead>\n",
       "  <tbody>\n",
       "    <tr>\n",
       "      <th>4</th>\n",
       "      <td>7</td>\n",
       "      <td>navin</td>\n",
       "    </tr>\n",
       "    <tr>\n",
       "      <th>3</th>\n",
       "      <td>6</td>\n",
       "      <td>hitu</td>\n",
       "    </tr>\n",
       "    <tr>\n",
       "      <th>2</th>\n",
       "      <td>5</td>\n",
       "      <td>kriish</td>\n",
       "    </tr>\n",
       "    <tr>\n",
       "      <th>1</th>\n",
       "      <td>4</td>\n",
       "      <td>tusha</td>\n",
       "    </tr>\n",
       "  </tbody>\n",
       "</table>\n",
       "</div>"
      ],
      "text/plain": [
       "   b       c\n",
       "a           \n",
       "4  7   navin\n",
       "3  6    hitu\n",
       "2  5  kriish\n",
       "1  4   tusha"
      ]
     },
     "execution_count": 44,
     "metadata": {},
     "output_type": "execute_result"
    }
   ],
   "source": [
    "df.sort_index(ascending=False)"
   ]
  },
  {
   "cell_type": "code",
   "execution_count": 49,
   "metadata": {},
   "outputs": [],
   "source": [
    "pd.set_option(\"display.max_colwidth\",1000)\n",
    "df3=pd.DataFrame({\"desc\":[\"Data Science Masters course is highly curated and uniquely designed according to the latest industry standards. This program instills students the skills essential to knowledge discovery efforts to identify standard, novel, and truly differentiated solutions and decision-making, including skills in managing, querying, analyzing, visualizing, and extracting meaning from extremely large data sets. This trending program provides students with the statistical, mathematical and computational skills needed to meet the large-scale data science challenges of today's professional world. You will learn all the stack required to work in data science industry including cloud infrastructure and real-time industry projects. This course will be taught in Hindi language\",'my name is tush', \"i am learning data science\"]})"
   ]
  },
  {
   "cell_type": "code",
   "execution_count": 50,
   "metadata": {},
   "outputs": [
    {
     "data": {
      "text/html": [
       "<div>\n",
       "<style scoped>\n",
       "    .dataframe tbody tr th:only-of-type {\n",
       "        vertical-align: middle;\n",
       "    }\n",
       "\n",
       "    .dataframe tbody tr th {\n",
       "        vertical-align: top;\n",
       "    }\n",
       "\n",
       "    .dataframe thead th {\n",
       "        text-align: right;\n",
       "    }\n",
       "</style>\n",
       "<table border=\"1\" class=\"dataframe\">\n",
       "  <thead>\n",
       "    <tr style=\"text-align: right;\">\n",
       "      <th></th>\n",
       "      <th>desc</th>\n",
       "    </tr>\n",
       "  </thead>\n",
       "  <tbody>\n",
       "    <tr>\n",
       "      <th>0</th>\n",
       "      <td>Data Science Masters course is highly curated and uniquely designed according to the latest industry standards. This program instills students the skills essential to knowledge discovery efforts to identify standard, novel, and truly differentiated solutions and decision-making, including skills in managing, querying, analyzing, visualizing, and extracting meaning from extremely large data sets. This trending program provides students with the statistical, mathematical and computational skills needed to meet the large-scale data science challenges of today's professional world. You will learn all the stack required to work in data science industry including cloud infrastructure and real-time industry projects. This course will be taught in Hindi language</td>\n",
       "    </tr>\n",
       "    <tr>\n",
       "      <th>1</th>\n",
       "      <td>my name is tush</td>\n",
       "    </tr>\n",
       "    <tr>\n",
       "      <th>2</th>\n",
       "      <td>i am learning data science</td>\n",
       "    </tr>\n",
       "  </tbody>\n",
       "</table>\n",
       "</div>"
      ],
      "text/plain": [
       "                                                                                                                                                                                                                                                                                                                                                                                                                                                                                                                                                                                                                                                                                                                                                                                           desc\n",
       "0  Data Science Masters course is highly curated and uniquely designed according to the latest industry standards. This program instills students the skills essential to knowledge discovery efforts to identify standard, novel, and truly differentiated solutions and decision-making, including skills in managing, querying, analyzing, visualizing, and extracting meaning from extremely large data sets. This trending program provides students with the statistical, mathematical and computational skills needed to meet the large-scale data science challenges of today's professional world. You will learn all the stack required to work in data science industry including cloud infrastructure and real-time industry projects. This course will be taught in Hindi language\n",
       "1                                                                                                                                                                                                                                                                                                                                                                                                                                                                                                                                                                                                                                                                                                                                                                               my name is tush\n",
       "2                                                                                                                                                                                                                                                                                                                                                                                                                                                                                                                                                                                                                                                                                                                                                                    i am learning data science"
      ]
     },
     "execution_count": 50,
     "metadata": {},
     "output_type": "execute_result"
    }
   ],
   "source": [
    "df3"
   ]
  },
  {
   "cell_type": "code",
   "execution_count": 53,
   "metadata": {},
   "outputs": [],
   "source": [
    "df3['len']=df3['desc'].apply(len)"
   ]
  },
  {
   "cell_type": "code",
   "execution_count": 54,
   "metadata": {},
   "outputs": [
    {
     "data": {
      "text/plain": [
       "0    764\n",
       "1     15\n",
       "2     26\n",
       "Name: len, dtype: int64"
      ]
     },
     "execution_count": 54,
     "metadata": {},
     "output_type": "execute_result"
    }
   ],
   "source": [
    "df3['len']"
   ]
  },
  {
   "cell_type": "code",
   "execution_count": 56,
   "metadata": {},
   "outputs": [],
   "source": [
    "df3['word_count']= df3['desc'].apply(lambda x :len(x.split()))"
   ]
  },
  {
   "cell_type": "code",
   "execution_count": 57,
   "metadata": {},
   "outputs": [
    {
     "data": {
      "text/plain": [
       "0    104\n",
       "1      4\n",
       "2      5\n",
       "Name: word_count, dtype: int64"
      ]
     },
     "execution_count": 57,
     "metadata": {},
     "output_type": "execute_result"
    }
   ],
   "source": [
    "df3['word_count']"
   ]
  },
  {
   "cell_type": "code",
   "execution_count": 58,
   "metadata": {},
   "outputs": [
    {
     "data": {
      "text/html": [
       "<div>\n",
       "<style scoped>\n",
       "    .dataframe tbody tr th:only-of-type {\n",
       "        vertical-align: middle;\n",
       "    }\n",
       "\n",
       "    .dataframe tbody tr th {\n",
       "        vertical-align: top;\n",
       "    }\n",
       "\n",
       "    .dataframe thead th {\n",
       "        text-align: right;\n",
       "    }\n",
       "</style>\n",
       "<table border=\"1\" class=\"dataframe\">\n",
       "  <thead>\n",
       "    <tr style=\"text-align: right;\">\n",
       "      <th></th>\n",
       "      <th>desc</th>\n",
       "      <th>len</th>\n",
       "      <th>word_count</th>\n",
       "    </tr>\n",
       "  </thead>\n",
       "  <tbody>\n",
       "    <tr>\n",
       "      <th>0</th>\n",
       "      <td>Data Science Masters course is highly curated and uniquely designed according to the latest industry standards. This program instills students the skills essential to knowledge discovery efforts to identify standard, novel, and truly differentiated solutions and decision-making, including skills in managing, querying, analyzing, visualizing, and extracting meaning from extremely large data sets. This trending program provides students with the statistical, mathematical and computational skills needed to meet the large-scale data science challenges of today's professional world. You will learn all the stack required to work in data science industry including cloud infrastructure and real-time industry projects. This course will be taught in Hindi language</td>\n",
       "      <td>764</td>\n",
       "      <td>104</td>\n",
       "    </tr>\n",
       "    <tr>\n",
       "      <th>1</th>\n",
       "      <td>my name is tush</td>\n",
       "      <td>15</td>\n",
       "      <td>4</td>\n",
       "    </tr>\n",
       "    <tr>\n",
       "      <th>2</th>\n",
       "      <td>i am learning data science</td>\n",
       "      <td>26</td>\n",
       "      <td>5</td>\n",
       "    </tr>\n",
       "  </tbody>\n",
       "</table>\n",
       "</div>"
      ],
      "text/plain": [
       "                                                                                                                                                                                                                                                                                                                                                                                                                                                                                                                                                                                                                                                                                                                                                                                           desc  \\\n",
       "0  Data Science Masters course is highly curated and uniquely designed according to the latest industry standards. This program instills students the skills essential to knowledge discovery efforts to identify standard, novel, and truly differentiated solutions and decision-making, including skills in managing, querying, analyzing, visualizing, and extracting meaning from extremely large data sets. This trending program provides students with the statistical, mathematical and computational skills needed to meet the large-scale data science challenges of today's professional world. You will learn all the stack required to work in data science industry including cloud infrastructure and real-time industry projects. This course will be taught in Hindi language   \n",
       "1                                                                                                                                                                                                                                                                                                                                                                                                                                                                                                                                                                                                                                                                                                                                                                               my name is tush   \n",
       "2                                                                                                                                                                                                                                                                                                                                                                                                                                                                                                                                                                                                                                                                                                                                                                    i am learning data science   \n",
       "\n",
       "   len  word_count  \n",
       "0  764         104  \n",
       "1   15           4  \n",
       "2   26           5  "
      ]
     },
     "execution_count": 58,
     "metadata": {},
     "output_type": "execute_result"
    }
   ],
   "source": [
    "df3"
   ]
  },
  {
   "cell_type": "code",
   "execution_count": 61,
   "metadata": {},
   "outputs": [
    {
     "data": {
      "text/plain": [
       "5.5"
      ]
     },
     "execution_count": 61,
     "metadata": {},
     "output_type": "execute_result"
    }
   ],
   "source": [
    "df['b'].mean()"
   ]
  },
  {
   "cell_type": "code",
   "execution_count": 63,
   "metadata": {},
   "outputs": [
    {
     "data": {
      "text/plain": [
       "5.5"
      ]
     },
     "execution_count": 63,
     "metadata": {},
     "output_type": "execute_result"
    }
   ],
   "source": [
    "df['b'].median()"
   ]
  },
  {
   "cell_type": "code",
   "execution_count": 64,
   "metadata": {},
   "outputs": [
    {
     "data": {
      "text/plain": [
       "0    4\n",
       "1    5\n",
       "2    6\n",
       "3    7\n",
       "Name: b, dtype: int64"
      ]
     },
     "execution_count": 64,
     "metadata": {},
     "output_type": "execute_result"
    }
   ],
   "source": [
    "df['b'].mode()"
   ]
  },
  {
   "cell_type": "code",
   "execution_count": 65,
   "metadata": {},
   "outputs": [
    {
     "data": {
      "text/plain": [
       "1.2909944487358056"
      ]
     },
     "execution_count": 65,
     "metadata": {},
     "output_type": "execute_result"
    }
   ],
   "source": [
    "df['b'].std()"
   ]
  },
  {
   "cell_type": "code",
   "execution_count": 67,
   "metadata": {},
   "outputs": [
    {
     "data": {
      "text/plain": [
       "22"
      ]
     },
     "execution_count": 67,
     "metadata": {},
     "output_type": "execute_result"
    }
   ],
   "source": [
    "df['b'].sum()"
   ]
  },
  {
   "cell_type": "code",
   "execution_count": 68,
   "metadata": {},
   "outputs": [
    {
     "data": {
      "text/plain": [
       "7"
      ]
     },
     "execution_count": 68,
     "metadata": {},
     "output_type": "execute_result"
    }
   ],
   "source": [
    "df['b'].max()"
   ]
  },
  {
   "cell_type": "code",
   "execution_count": 69,
   "metadata": {},
   "outputs": [
    {
     "data": {
      "text/plain": [
       "4"
      ]
     },
     "execution_count": 69,
     "metadata": {},
     "output_type": "execute_result"
    }
   ],
   "source": [
    "df['b'].min()"
   ]
  },
  {
   "cell_type": "code",
   "execution_count": 70,
   "metadata": {},
   "outputs": [
    {
     "data": {
      "text/plain": [
       "1.6666666666666667"
      ]
     },
     "execution_count": 70,
     "metadata": {},
     "output_type": "execute_result"
    }
   ],
   "source": [
    "df['b'].var()"
   ]
  },
  {
   "cell_type": "code",
   "execution_count": 75,
   "metadata": {},
   "outputs": [],
   "source": [
    "df4=pd.DataFrame({'a':[3,4,5,6,7,6,9]})"
   ]
  },
  {
   "cell_type": "code",
   "execution_count": 76,
   "metadata": {},
   "outputs": [
    {
     "data": {
      "text/html": [
       "<div>\n",
       "<style scoped>\n",
       "    .dataframe tbody tr th:only-of-type {\n",
       "        vertical-align: middle;\n",
       "    }\n",
       "\n",
       "    .dataframe tbody tr th {\n",
       "        vertical-align: top;\n",
       "    }\n",
       "\n",
       "    .dataframe thead th {\n",
       "        text-align: right;\n",
       "    }\n",
       "</style>\n",
       "<table border=\"1\" class=\"dataframe\">\n",
       "  <thead>\n",
       "    <tr style=\"text-align: right;\">\n",
       "      <th></th>\n",
       "      <th>a</th>\n",
       "    </tr>\n",
       "  </thead>\n",
       "  <tbody>\n",
       "    <tr>\n",
       "      <th>0</th>\n",
       "      <td>3</td>\n",
       "    </tr>\n",
       "    <tr>\n",
       "      <th>1</th>\n",
       "      <td>4</td>\n",
       "    </tr>\n",
       "    <tr>\n",
       "      <th>2</th>\n",
       "      <td>5</td>\n",
       "    </tr>\n",
       "    <tr>\n",
       "      <th>3</th>\n",
       "      <td>6</td>\n",
       "    </tr>\n",
       "    <tr>\n",
       "      <th>4</th>\n",
       "      <td>7</td>\n",
       "    </tr>\n",
       "    <tr>\n",
       "      <th>5</th>\n",
       "      <td>6</td>\n",
       "    </tr>\n",
       "    <tr>\n",
       "      <th>6</th>\n",
       "      <td>9</td>\n",
       "    </tr>\n",
       "  </tbody>\n",
       "</table>\n",
       "</div>"
      ],
      "text/plain": [
       "   a\n",
       "0  3\n",
       "1  4\n",
       "2  5\n",
       "3  6\n",
       "4  7\n",
       "5  6\n",
       "6  9"
      ]
     },
     "execution_count": 76,
     "metadata": {},
     "output_type": "execute_result"
    }
   ],
   "source": [
    "df4"
   ]
  },
  {
   "cell_type": "code",
   "execution_count": 82,
   "metadata": {},
   "outputs": [
    {
     "data": {
      "text/plain": [
       "0    NaN\n",
       "1    3.5\n",
       "2    4.5\n",
       "3    5.5\n",
       "4    6.5\n",
       "5    6.5\n",
       "6    7.5\n",
       "Name: a, dtype: float64"
      ]
     },
     "execution_count": 82,
     "metadata": {},
     "output_type": "execute_result"
    }
   ],
   "source": [
    "df4['a'].rolling(window=2).mean()"
   ]
  },
  {
   "cell_type": "code",
   "execution_count": 79,
   "metadata": {},
   "outputs": [
    {
     "data": {
      "text/plain": [
       "0         NaN\n",
       "1         NaN\n",
       "2    4.000000\n",
       "3    5.000000\n",
       "4    6.000000\n",
       "5    6.333333\n",
       "6    7.333333\n",
       "Name: a, dtype: float64"
      ]
     },
     "execution_count": 79,
     "metadata": {},
     "output_type": "execute_result"
    }
   ],
   "source": [
    "df4['a'].rolling(window=3).mean()"
   ]
  },
  {
   "cell_type": "code",
   "execution_count": 80,
   "metadata": {},
   "outputs": [
    {
     "data": {
      "text/plain": [
       "0    3.0\n",
       "1    4.0\n",
       "2    5.0\n",
       "3    6.0\n",
       "4    7.0\n",
       "5    6.0\n",
       "6    9.0\n",
       "Name: a, dtype: float64"
      ]
     },
     "execution_count": 80,
     "metadata": {},
     "output_type": "execute_result"
    }
   ],
   "source": [
    "df4['a'].rolling(window=1).mean()"
   ]
  },
  {
   "cell_type": "code",
   "execution_count": 83,
   "metadata": {},
   "outputs": [
    {
     "data": {
      "text/plain": [
       "0     NaN\n",
       "1     7.0\n",
       "2     9.0\n",
       "3    11.0\n",
       "4    13.0\n",
       "5    13.0\n",
       "6    15.0\n",
       "Name: a, dtype: float64"
      ]
     },
     "execution_count": 83,
     "metadata": {},
     "output_type": "execute_result"
    }
   ],
   "source": [
    "df4['a'].rolling(window=2).sum()"
   ]
  },
  {
   "cell_type": "code",
   "execution_count": 84,
   "metadata": {},
   "outputs": [
    {
     "data": {
      "text/plain": [
       "0    NaN\n",
       "1    NaN\n",
       "2    3.0\n",
       "3    4.0\n",
       "4    5.0\n",
       "5    6.0\n",
       "6    6.0\n",
       "Name: a, dtype: float64"
      ]
     },
     "execution_count": 84,
     "metadata": {},
     "output_type": "execute_result"
    }
   ],
   "source": [
    "df4['a'].rolling(window=3).min()"
   ]
  },
  {
   "cell_type": "code",
   "execution_count": 85,
   "metadata": {},
   "outputs": [
    {
     "data": {
      "text/plain": [
       "0     3\n",
       "1     7\n",
       "2    12\n",
       "3    18\n",
       "4    25\n",
       "5    31\n",
       "6    40\n",
       "Name: a, dtype: int64"
      ]
     },
     "execution_count": 85,
     "metadata": {},
     "output_type": "execute_result"
    }
   ],
   "source": [
    "df4['a'].cumsum()"
   ]
  },
  {
   "cell_type": "code",
   "execution_count": 89,
   "metadata": {},
   "outputs": [],
   "source": [
    "#pyhton pandas - Date Functinality\n",
    "date=pd.date_range(start='2023-04-23',end='2023-06-23')"
   ]
  },
  {
   "cell_type": "code",
   "execution_count": 90,
   "metadata": {},
   "outputs": [],
   "source": [
    "df_date=pd.DataFrame({'date':date})"
   ]
  },
  {
   "cell_type": "code",
   "execution_count": 91,
   "metadata": {},
   "outputs": [
    {
     "data": {
      "text/html": [
       "<div>\n",
       "<style scoped>\n",
       "    .dataframe tbody tr th:only-of-type {\n",
       "        vertical-align: middle;\n",
       "    }\n",
       "\n",
       "    .dataframe tbody tr th {\n",
       "        vertical-align: top;\n",
       "    }\n",
       "\n",
       "    .dataframe thead th {\n",
       "        text-align: right;\n",
       "    }\n",
       "</style>\n",
       "<table border=\"1\" class=\"dataframe\">\n",
       "  <thead>\n",
       "    <tr style=\"text-align: right;\">\n",
       "      <th></th>\n",
       "      <th>date</th>\n",
       "    </tr>\n",
       "  </thead>\n",
       "  <tbody>\n",
       "    <tr>\n",
       "      <th>0</th>\n",
       "      <td>2023-04-23</td>\n",
       "    </tr>\n",
       "    <tr>\n",
       "      <th>1</th>\n",
       "      <td>2023-04-24</td>\n",
       "    </tr>\n",
       "    <tr>\n",
       "      <th>2</th>\n",
       "      <td>2023-04-25</td>\n",
       "    </tr>\n",
       "    <tr>\n",
       "      <th>3</th>\n",
       "      <td>2023-04-26</td>\n",
       "    </tr>\n",
       "    <tr>\n",
       "      <th>4</th>\n",
       "      <td>2023-04-27</td>\n",
       "    </tr>\n",
       "    <tr>\n",
       "      <th>...</th>\n",
       "      <td>...</td>\n",
       "    </tr>\n",
       "    <tr>\n",
       "      <th>57</th>\n",
       "      <td>2023-06-19</td>\n",
       "    </tr>\n",
       "    <tr>\n",
       "      <th>58</th>\n",
       "      <td>2023-06-20</td>\n",
       "    </tr>\n",
       "    <tr>\n",
       "      <th>59</th>\n",
       "      <td>2023-06-21</td>\n",
       "    </tr>\n",
       "    <tr>\n",
       "      <th>60</th>\n",
       "      <td>2023-06-22</td>\n",
       "    </tr>\n",
       "    <tr>\n",
       "      <th>61</th>\n",
       "      <td>2023-06-23</td>\n",
       "    </tr>\n",
       "  </tbody>\n",
       "</table>\n",
       "<p>62 rows × 1 columns</p>\n",
       "</div>"
      ],
      "text/plain": [
       "         date\n",
       "0  2023-04-23\n",
       "1  2023-04-24\n",
       "2  2023-04-25\n",
       "3  2023-04-26\n",
       "4  2023-04-27\n",
       "..        ...\n",
       "57 2023-06-19\n",
       "58 2023-06-20\n",
       "59 2023-06-21\n",
       "60 2023-06-22\n",
       "61 2023-06-23\n",
       "\n",
       "[62 rows x 1 columns]"
      ]
     },
     "execution_count": 91,
     "metadata": {},
     "output_type": "execute_result"
    }
   ],
   "source": [
    "df_date"
   ]
  },
  {
   "cell_type": "code",
   "execution_count": 95,
   "metadata": {},
   "outputs": [
    {
     "data": {
      "text/plain": [
       "date    datetime64[ns]\n",
       "dtype: object"
      ]
     },
     "execution_count": 95,
     "metadata": {},
     "output_type": "execute_result"
    }
   ],
   "source": [
    "df_date.dtypes"
   ]
  },
  {
   "cell_type": "code",
   "execution_count": 93,
   "metadata": {},
   "outputs": [],
   "source": [
    "df6=pd.DataFrame({'date':['2023-06-23','2023-06-22','2023-05-23']})"
   ]
  },
  {
   "cell_type": "code",
   "execution_count": 94,
   "metadata": {},
   "outputs": [
    {
     "data": {
      "text/plain": [
       "date    object\n",
       "dtype: object"
      ]
     },
     "execution_count": 94,
     "metadata": {},
     "output_type": "execute_result"
    }
   ],
   "source": [
    "df6.dtypes"
   ]
  },
  {
   "cell_type": "code",
   "execution_count": 96,
   "metadata": {},
   "outputs": [],
   "source": [
    "df6['updates_date']=pd.to_datetime(df6['date'])"
   ]
  },
  {
   "cell_type": "code",
   "execution_count": 97,
   "metadata": {},
   "outputs": [
    {
     "data": {
      "text/plain": [
       "date                    object\n",
       "updates_date    datetime64[ns]\n",
       "dtype: object"
      ]
     },
     "execution_count": 97,
     "metadata": {},
     "output_type": "execute_result"
    }
   ],
   "source": [
    "df6.dtypes"
   ]
  },
  {
   "cell_type": "code",
   "execution_count": 98,
   "metadata": {},
   "outputs": [
    {
     "data": {
      "text/html": [
       "<div>\n",
       "<style scoped>\n",
       "    .dataframe tbody tr th:only-of-type {\n",
       "        vertical-align: middle;\n",
       "    }\n",
       "\n",
       "    .dataframe tbody tr th {\n",
       "        vertical-align: top;\n",
       "    }\n",
       "\n",
       "    .dataframe thead th {\n",
       "        text-align: right;\n",
       "    }\n",
       "</style>\n",
       "<table border=\"1\" class=\"dataframe\">\n",
       "  <thead>\n",
       "    <tr style=\"text-align: right;\">\n",
       "      <th></th>\n",
       "      <th>date</th>\n",
       "      <th>updates_date</th>\n",
       "    </tr>\n",
       "  </thead>\n",
       "  <tbody>\n",
       "    <tr>\n",
       "      <th>0</th>\n",
       "      <td>2023-06-23</td>\n",
       "      <td>2023-06-23</td>\n",
       "    </tr>\n",
       "    <tr>\n",
       "      <th>1</th>\n",
       "      <td>2023-06-22</td>\n",
       "      <td>2023-06-22</td>\n",
       "    </tr>\n",
       "    <tr>\n",
       "      <th>2</th>\n",
       "      <td>2023-05-23</td>\n",
       "      <td>2023-05-23</td>\n",
       "    </tr>\n",
       "  </tbody>\n",
       "</table>\n",
       "</div>"
      ],
      "text/plain": [
       "         date updates_date\n",
       "0  2023-06-23   2023-06-23\n",
       "1  2023-06-22   2023-06-22\n",
       "2  2023-05-23   2023-05-23"
      ]
     },
     "execution_count": 98,
     "metadata": {},
     "output_type": "execute_result"
    }
   ],
   "source": [
    "df6"
   ]
  },
  {
   "cell_type": "code",
   "execution_count": 99,
   "metadata": {},
   "outputs": [],
   "source": [
    "df6[\"year\"]=df6['updates_date'].dt.year"
   ]
  },
  {
   "cell_type": "code",
   "execution_count": 100,
   "metadata": {},
   "outputs": [
    {
     "data": {
      "text/html": [
       "<div>\n",
       "<style scoped>\n",
       "    .dataframe tbody tr th:only-of-type {\n",
       "        vertical-align: middle;\n",
       "    }\n",
       "\n",
       "    .dataframe tbody tr th {\n",
       "        vertical-align: top;\n",
       "    }\n",
       "\n",
       "    .dataframe thead th {\n",
       "        text-align: right;\n",
       "    }\n",
       "</style>\n",
       "<table border=\"1\" class=\"dataframe\">\n",
       "  <thead>\n",
       "    <tr style=\"text-align: right;\">\n",
       "      <th></th>\n",
       "      <th>date</th>\n",
       "      <th>updates_date</th>\n",
       "      <th>year</th>\n",
       "    </tr>\n",
       "  </thead>\n",
       "  <tbody>\n",
       "    <tr>\n",
       "      <th>0</th>\n",
       "      <td>2023-06-23</td>\n",
       "      <td>2023-06-23</td>\n",
       "      <td>2023</td>\n",
       "    </tr>\n",
       "    <tr>\n",
       "      <th>1</th>\n",
       "      <td>2023-06-22</td>\n",
       "      <td>2023-06-22</td>\n",
       "      <td>2023</td>\n",
       "    </tr>\n",
       "    <tr>\n",
       "      <th>2</th>\n",
       "      <td>2023-05-23</td>\n",
       "      <td>2023-05-23</td>\n",
       "      <td>2023</td>\n",
       "    </tr>\n",
       "  </tbody>\n",
       "</table>\n",
       "</div>"
      ],
      "text/plain": [
       "         date updates_date  year\n",
       "0  2023-06-23   2023-06-23  2023\n",
       "1  2023-06-22   2023-06-22  2023\n",
       "2  2023-05-23   2023-05-23  2023"
      ]
     },
     "execution_count": 100,
     "metadata": {},
     "output_type": "execute_result"
    }
   ],
   "source": [
    "df6"
   ]
  },
  {
   "cell_type": "code",
   "execution_count": 101,
   "metadata": {},
   "outputs": [],
   "source": [
    "df6[\"day\"]=df6['updates_date'].dt.day"
   ]
  },
  {
   "cell_type": "code",
   "execution_count": 102,
   "metadata": {},
   "outputs": [
    {
     "data": {
      "text/html": [
       "<div>\n",
       "<style scoped>\n",
       "    .dataframe tbody tr th:only-of-type {\n",
       "        vertical-align: middle;\n",
       "    }\n",
       "\n",
       "    .dataframe tbody tr th {\n",
       "        vertical-align: top;\n",
       "    }\n",
       "\n",
       "    .dataframe thead th {\n",
       "        text-align: right;\n",
       "    }\n",
       "</style>\n",
       "<table border=\"1\" class=\"dataframe\">\n",
       "  <thead>\n",
       "    <tr style=\"text-align: right;\">\n",
       "      <th></th>\n",
       "      <th>date</th>\n",
       "      <th>updates_date</th>\n",
       "      <th>year</th>\n",
       "      <th>day</th>\n",
       "    </tr>\n",
       "  </thead>\n",
       "  <tbody>\n",
       "    <tr>\n",
       "      <th>0</th>\n",
       "      <td>2023-06-23</td>\n",
       "      <td>2023-06-23</td>\n",
       "      <td>2023</td>\n",
       "      <td>23</td>\n",
       "    </tr>\n",
       "    <tr>\n",
       "      <th>1</th>\n",
       "      <td>2023-06-22</td>\n",
       "      <td>2023-06-22</td>\n",
       "      <td>2023</td>\n",
       "      <td>22</td>\n",
       "    </tr>\n",
       "    <tr>\n",
       "      <th>2</th>\n",
       "      <td>2023-05-23</td>\n",
       "      <td>2023-05-23</td>\n",
       "      <td>2023</td>\n",
       "      <td>23</td>\n",
       "    </tr>\n",
       "  </tbody>\n",
       "</table>\n",
       "</div>"
      ],
      "text/plain": [
       "         date updates_date  year  day\n",
       "0  2023-06-23   2023-06-23  2023   23\n",
       "1  2023-06-22   2023-06-22  2023   22\n",
       "2  2023-05-23   2023-05-23  2023   23"
      ]
     },
     "execution_count": 102,
     "metadata": {},
     "output_type": "execute_result"
    }
   ],
   "source": [
    "df6"
   ]
  },
  {
   "cell_type": "code",
   "execution_count": 103,
   "metadata": {},
   "outputs": [],
   "source": [
    "df6['month']=df6['updates_date'].dt.month"
   ]
  },
  {
   "cell_type": "code",
   "execution_count": 104,
   "metadata": {},
   "outputs": [
    {
     "data": {
      "text/html": [
       "<div>\n",
       "<style scoped>\n",
       "    .dataframe tbody tr th:only-of-type {\n",
       "        vertical-align: middle;\n",
       "    }\n",
       "\n",
       "    .dataframe tbody tr th {\n",
       "        vertical-align: top;\n",
       "    }\n",
       "\n",
       "    .dataframe thead th {\n",
       "        text-align: right;\n",
       "    }\n",
       "</style>\n",
       "<table border=\"1\" class=\"dataframe\">\n",
       "  <thead>\n",
       "    <tr style=\"text-align: right;\">\n",
       "      <th></th>\n",
       "      <th>date</th>\n",
       "      <th>updates_date</th>\n",
       "      <th>year</th>\n",
       "      <th>day</th>\n",
       "      <th>month</th>\n",
       "    </tr>\n",
       "  </thead>\n",
       "  <tbody>\n",
       "    <tr>\n",
       "      <th>0</th>\n",
       "      <td>2023-06-23</td>\n",
       "      <td>2023-06-23</td>\n",
       "      <td>2023</td>\n",
       "      <td>23</td>\n",
       "      <td>6</td>\n",
       "    </tr>\n",
       "    <tr>\n",
       "      <th>1</th>\n",
       "      <td>2023-06-22</td>\n",
       "      <td>2023-06-22</td>\n",
       "      <td>2023</td>\n",
       "      <td>22</td>\n",
       "      <td>6</td>\n",
       "    </tr>\n",
       "    <tr>\n",
       "      <th>2</th>\n",
       "      <td>2023-05-23</td>\n",
       "      <td>2023-05-23</td>\n",
       "      <td>2023</td>\n",
       "      <td>23</td>\n",
       "      <td>5</td>\n",
       "    </tr>\n",
       "  </tbody>\n",
       "</table>\n",
       "</div>"
      ],
      "text/plain": [
       "         date updates_date  year  day  month\n",
       "0  2023-06-23   2023-06-23  2023   23      6\n",
       "1  2023-06-22   2023-06-22  2023   22      6\n",
       "2  2023-05-23   2023-05-23  2023   23      5"
      ]
     },
     "execution_count": 104,
     "metadata": {},
     "output_type": "execute_result"
    }
   ],
   "source": [
    "df6"
   ]
  },
  {
   "cell_type": "code",
   "execution_count": 105,
   "metadata": {},
   "outputs": [],
   "source": [
    "#Time Delta "
   ]
  },
  {
   "cell_type": "code",
   "execution_count": 108,
   "metadata": {},
   "outputs": [
    {
     "data": {
      "text/plain": [
       "Timedelta('1 days 05:45:30')"
      ]
     },
     "execution_count": 108,
     "metadata": {},
     "output_type": "execute_result"
    }
   ],
   "source": [
    "pd.Timedelta(days=1,hours=5,minutes=45,seconds=30)"
   ]
  },
  {
   "cell_type": "code",
   "execution_count": 110,
   "metadata": {},
   "outputs": [],
   "source": [
    "dt=pd.to_datetime('2023-06-20')"
   ]
  },
  {
   "cell_type": "code",
   "execution_count": 111,
   "metadata": {},
   "outputs": [],
   "source": [
    "td=pd.Timedelta(days=1)"
   ]
  },
  {
   "cell_type": "code",
   "execution_count": 112,
   "metadata": {},
   "outputs": [
    {
     "data": {
      "text/plain": [
       "Timestamp('2023-06-21 00:00:00')"
      ]
     },
     "execution_count": 112,
     "metadata": {},
     "output_type": "execute_result"
    }
   ],
   "source": [
    "dt+td"
   ]
  },
  {
   "cell_type": "code",
   "execution_count": 113,
   "metadata": {},
   "outputs": [],
   "source": [
    "#Categorical Data"
   ]
  },
  {
   "cell_type": "code",
   "execution_count": 116,
   "metadata": {},
   "outputs": [],
   "source": [
    "data=[\"tush\",\"kal\",'swap','tush','swap']"
   ]
  },
  {
   "cell_type": "code",
   "execution_count": 118,
   "metadata": {},
   "outputs": [],
   "source": [
    "cat=pd.Categorical(data)"
   ]
  },
  {
   "cell_type": "code",
   "execution_count": 119,
   "metadata": {},
   "outputs": [
    {
     "data": {
      "text/plain": [
       "['tush', 'kal', 'swap', 'tush', 'swap']\n",
       "Categories (3, object): ['kal', 'swap', 'tush']"
      ]
     },
     "execution_count": 119,
     "metadata": {},
     "output_type": "execute_result"
    }
   ],
   "source": [
    "cat"
   ]
  },
  {
   "cell_type": "code",
   "execution_count": 120,
   "metadata": {},
   "outputs": [
    {
     "data": {
      "text/plain": [
       "kal     1\n",
       "swap    2\n",
       "tush    2\n",
       "dtype: int64"
      ]
     },
     "execution_count": 120,
     "metadata": {},
     "output_type": "execute_result"
    }
   ],
   "source": [
    "cat.value_counts()"
   ]
  },
  {
   "cell_type": "code",
   "execution_count": 121,
   "metadata": {},
   "outputs": [],
   "source": [
    "#Visualization"
   ]
  },
  {
   "cell_type": "code",
   "execution_count": 127,
   "metadata": {},
   "outputs": [],
   "source": [
    "d=pd.Series([1,2,5,4,8,6,7,19,8,9])"
   ]
  },
  {
   "cell_type": "code",
   "execution_count": 125,
   "metadata": {},
   "outputs": [
    {
     "name": "stdout",
     "output_type": "stream",
     "text": [
      "Defaulting to user installation because normal site-packages is not writeableNote: you may need to restart the kernel to use updated packages.\n",
      "\n",
      "Collecting matplotlib\n",
      "  Downloading matplotlib-3.7.1-cp311-cp311-win_amd64.whl (7.6 MB)\n",
      "     ---------------------------------------- 0.0/7.6 MB ? eta -:--:--\n",
      "     ---------------------------------------- 0.1/7.6 MB 2.6 MB/s eta 0:00:03\n",
      "     - -------------------------------------- 0.2/7.6 MB 2.8 MB/s eta 0:00:03\n",
      "     --- ------------------------------------ 0.6/7.6 MB 4.5 MB/s eta 0:00:02\n",
      "     --- ------------------------------------ 0.6/7.6 MB 4.5 MB/s eta 0:00:02\n",
      "     --- ------------------------------------ 0.7/7.6 MB 2.9 MB/s eta 0:00:03\n",
      "     ----- ---------------------------------- 1.0/7.6 MB 3.6 MB/s eta 0:00:02\n",
      "     ----- ---------------------------------- 1.0/7.6 MB 3.2 MB/s eta 0:00:03\n",
      "     -------- ------------------------------- 1.6/7.6 MB 4.0 MB/s eta 0:00:02\n",
      "     --------- ------------------------------ 1.9/7.6 MB 4.5 MB/s eta 0:00:02\n",
      "     ------------ --------------------------- 2.3/7.6 MB 5.0 MB/s eta 0:00:02\n",
      "     -------------- ------------------------- 2.8/7.6 MB 5.3 MB/s eta 0:00:01\n",
      "     --------------- ------------------------ 2.9/7.6 MB 5.5 MB/s eta 0:00:01\n",
      "     --------------- ------------------------ 3.0/7.6 MB 4.9 MB/s eta 0:00:01\n",
      "     ---------------- ----------------------- 3.1/7.6 MB 4.9 MB/s eta 0:00:01\n",
      "     ---------------- ----------------------- 3.1/7.6 MB 4.9 MB/s eta 0:00:01\n",
      "     ----------------- ---------------------- 3.3/7.6 MB 4.4 MB/s eta 0:00:01\n",
      "     -------------------- ------------------- 3.9/7.6 MB 4.9 MB/s eta 0:00:01\n",
      "     --------------------- ------------------ 4.1/7.6 MB 5.0 MB/s eta 0:00:01\n",
      "     --------------------- ------------------ 4.1/7.6 MB 5.0 MB/s eta 0:00:01\n",
      "     --------------------- ------------------ 4.2/7.6 MB 4.5 MB/s eta 0:00:01\n",
      "     ---------------------- ----------------- 4.4/7.6 MB 4.4 MB/s eta 0:00:01\n",
      "     ------------------------- -------------- 4.8/7.6 MB 4.7 MB/s eta 0:00:01\n",
      "     --------------------------- ------------ 5.2/7.6 MB 4.9 MB/s eta 0:00:01\n",
      "     ----------------------------- ---------- 5.6/7.6 MB 5.0 MB/s eta 0:00:01\n",
      "     ------------------------------ --------- 5.8/7.6 MB 5.0 MB/s eta 0:00:01\n",
      "     -------------------------------- ------- 6.2/7.6 MB 5.1 MB/s eta 0:00:01\n",
      "     ---------------------------------- ----- 6.5/7.6 MB 5.2 MB/s eta 0:00:01\n",
      "     ------------------------------------ --- 6.9/7.6 MB 5.3 MB/s eta 0:00:01\n",
      "     ------------------------------------- -- 7.2/7.6 MB 5.3 MB/s eta 0:00:01\n",
      "     ---------------------------------------  7.6/7.6 MB 5.4 MB/s eta 0:00:01\n",
      "     ---------------------------------------  7.6/7.6 MB 5.5 MB/s eta 0:00:01\n",
      "     ---------------------------------------- 7.6/7.6 MB 5.2 MB/s eta 0:00:00\n",
      "Collecting contourpy>=1.0.1\n",
      "  Downloading contourpy-1.0.7-cp311-cp311-win_amd64.whl (162 kB)\n",
      "     ---------------------------------------- 0.0/163.0 kB ? eta -:--:--\n",
      "     ------------------------------------- 163.0/163.0 kB 10.2 MB/s eta 0:00:00\n",
      "Collecting cycler>=0.10\n",
      "  Using cached cycler-0.11.0-py3-none-any.whl (6.4 kB)\n",
      "Collecting fonttools>=4.22.0\n",
      "  Using cached fonttools-4.38.0-py3-none-any.whl (965 kB)\n",
      "Collecting kiwisolver>=1.0.1\n",
      "  Using cached kiwisolver-1.4.4-cp311-cp311-win_amd64.whl (55 kB)\n",
      "Requirement already satisfied: numpy>=1.20 in c:\\users\\tushar.ahire01\\appdata\\roaming\\python\\python311\\site-packages (from matplotlib) (1.24.2)\n",
      "Requirement already satisfied: packaging>=20.0 in c:\\users\\tushar.ahire01\\appdata\\roaming\\python\\python311\\site-packages (from matplotlib) (22.0)\n",
      "Collecting pillow>=6.2.0\n",
      "  Downloading Pillow-9.4.0-cp311-cp311-win_amd64.whl (2.5 MB)\n",
      "     ---------------------------------------- 0.0/2.5 MB ? eta -:--:--\n",
      "     ---- ----------------------------------- 0.3/2.5 MB 8.6 MB/s eta 0:00:01\n",
      "     ---------- ----------------------------- 0.6/2.5 MB 7.9 MB/s eta 0:00:01\n",
      "     ------------- -------------------------- 0.8/2.5 MB 6.7 MB/s eta 0:00:01\n",
      "     ---------------- ----------------------- 1.0/2.5 MB 5.5 MB/s eta 0:00:01\n",
      "     ------------------- -------------------- 1.2/2.5 MB 5.3 MB/s eta 0:00:01\n",
      "     --------------------- ------------------ 1.3/2.5 MB 4.9 MB/s eta 0:00:01\n",
      "     ---------------------- ----------------- 1.4/2.5 MB 4.5 MB/s eta 0:00:01\n",
      "     ------------------------- -------------- 1.6/2.5 MB 4.3 MB/s eta 0:00:01\n",
      "     --------------------------- ------------ 1.7/2.5 MB 4.2 MB/s eta 0:00:01\n",
      "     ----------------------------- ---------- 1.8/2.5 MB 4.0 MB/s eta 0:00:01\n",
      "     ------------------------------- -------- 2.0/2.5 MB 3.9 MB/s eta 0:00:01\n",
      "     ---------------------------------- ----- 2.1/2.5 MB 3.9 MB/s eta 0:00:01\n",
      "     ------------------------------------- -- 2.3/2.5 MB 3.8 MB/s eta 0:00:01\n",
      "     ---------------------------------------  2.5/2.5 MB 3.8 MB/s eta 0:00:01\n",
      "     ---------------------------------------  2.5/2.5 MB 3.8 MB/s eta 0:00:01\n",
      "     ---------------------------------------- 2.5/2.5 MB 3.4 MB/s eta 0:00:00\n",
      "Collecting pyparsing>=2.3.1\n",
      "  Using cached pyparsing-3.0.9-py3-none-any.whl (98 kB)\n",
      "Requirement already satisfied: python-dateutil>=2.7 in c:\\users\\tushar.ahire01\\appdata\\roaming\\python\\python311\\site-packages (from matplotlib) (2.8.2)\n",
      "Requirement already satisfied: six>=1.5 in c:\\users\\tushar.ahire01\\appdata\\roaming\\python\\python311\\site-packages (from python-dateutil>=2.7->matplotlib) (1.16.0)\n",
      "Installing collected packages: pyparsing, pillow, kiwisolver, fonttools, cycler, contourpy, matplotlib\n",
      "Successfully installed contourpy-1.0.7 cycler-0.11.0 fonttools-4.38.0 kiwisolver-1.4.4 matplotlib-3.7.1 pillow-9.4.0 pyparsing-3.0.9\n"
     ]
    }
   ],
   "source": [
    "pip install matplotlib"
   ]
  },
  {
   "cell_type": "code",
   "execution_count": 129,
   "metadata": {},
   "outputs": [],
   "source": [
    "d=pd.Series([1,2,5,4,8,6,7,10,8,9])"
   ]
  },
  {
   "cell_type": "code",
   "execution_count": 130,
   "metadata": {},
   "outputs": [
    {
     "data": {
      "text/plain": [
       "<Axes: >"
      ]
     },
     "execution_count": 130,
     "metadata": {},
     "output_type": "execute_result"
    },
    {
     "data": {
      "image/png": "[encoded data removed]",
      "text/plain": [
       "<Figure size 640x480 with 1 Axes>"
      ]
     },
     "metadata": {},
     "output_type": "display_data"
    }
   ],
   "source": [
    "import matplotlib\n",
    "d.plot()"
   ]
  },
  {
   "cell_type": "code",
   "execution_count": 131,
   "metadata": {},
   "outputs": [],
   "source": [
    "df=pd.DataFrame({'a':[3,4,5,6,7],\n",
    "                 'b':[4,3,2,5,6]})"
   ]
  },
  {
   "cell_type": "code",
   "execution_count": 132,
   "metadata": {},
   "outputs": [
    {
     "data": {
      "text/html": [
       "<div>\n",
       "<style scoped>\n",
       "    .dataframe tbody tr th:only-of-type {\n",
       "        vertical-align: middle;\n",
       "    }\n",
       "\n",
       "    .dataframe tbody tr th {\n",
       "        vertical-align: top;\n",
       "    }\n",
       "\n",
       "    .dataframe thead th {\n",
       "        text-align: right;\n",
       "    }\n",
       "</style>\n",
       "<table border=\"1\" class=\"dataframe\">\n",
       "  <thead>\n",
       "    <tr style=\"text-align: right;\">\n",
       "      <th></th>\n",
       "      <th>a</th>\n",
       "      <th>b</th>\n",
       "    </tr>\n",
       "  </thead>\n",
       "  <tbody>\n",
       "    <tr>\n",
       "      <th>0</th>\n",
       "      <td>3</td>\n",
       "      <td>4</td>\n",
       "    </tr>\n",
       "    <tr>\n",
       "      <th>1</th>\n",
       "      <td>4</td>\n",
       "      <td>3</td>\n",
       "    </tr>\n",
       "    <tr>\n",
       "      <th>2</th>\n",
       "      <td>5</td>\n",
       "      <td>2</td>\n",
       "    </tr>\n",
       "    <tr>\n",
       "      <th>3</th>\n",
       "      <td>6</td>\n",
       "      <td>5</td>\n",
       "    </tr>\n",
       "    <tr>\n",
       "      <th>4</th>\n",
       "      <td>7</td>\n",
       "      <td>6</td>\n",
       "    </tr>\n",
       "  </tbody>\n",
       "</table>\n",
       "</div>"
      ],
      "text/plain": [
       "   a  b\n",
       "0  3  4\n",
       "1  4  3\n",
       "2  5  2\n",
       "3  6  5\n",
       "4  7  6"
      ]
     },
     "execution_count": 132,
     "metadata": {},
     "output_type": "execute_result"
    }
   ],
   "source": [
    "df"
   ]
  },
  {
   "cell_type": "code",
   "execution_count": 133,
   "metadata": {},
   "outputs": [
    {
     "data": {
      "text/plain": [
       "<Axes: xlabel='a'>"
      ]
     },
     "execution_count": 133,
     "metadata": {},
     "output_type": "execute_result"
    },
    {
     "data": {
      "image/png": "[encoded data removed]",
      "text/plain": [
       "<Figure size 640x480 with 1 Axes>"
      ]
     },
     "metadata": {},
     "output_type": "display_data"
    }
   ],
   "source": [
    "df.plot(x='a',y='b')"
   ]
  },
  {
   "cell_type": "code",
   "execution_count": 134,
   "metadata": {},
   "outputs": [
    {
     "data": {
      "text/plain": [
       "<Axes: xlabel='b'>"
      ]
     },
     "execution_count": 134,
     "metadata": {},
     "output_type": "execute_result"
    },
    {
     "data": {
      "image/png": "[encoded data removed]",
      "text/plain": [
       "<Figure size 640x480 with 1 Axes>"
      ]
     },
     "metadata": {},
     "output_type": "display_data"
    }
   ],
   "source": [
    "df.plot(x='b',y='a')"
   ]
  },
  {
   "cell_type": "code",
   "execution_count": 135,
   "metadata": {},
   "outputs": [
    {
     "data": {
      "text/plain": [
       "<Axes: xlabel='a', ylabel='b'>"
      ]
     },
     "execution_count": 135,
     "metadata": {},
     "output_type": "execute_result"
    },
    {
     "data": {
      "image/png": "[encoded data removed]",
      "text/plain": [
       "<Figure size 640x480 with 1 Axes>"
      ]
     },
     "metadata": {},
     "output_type": "display_data"
    }
   ],
   "source": [
    "df.plot.scatter(x='a',y='b')"
   ]
  },
  {
   "cell_type": "code",
   "execution_count": 137,
   "metadata": {},
   "outputs": [
    {
     "data": {
      "text/plain": [
       "<Axes: >"
      ]
     },
     "execution_count": 137,
     "metadata": {},
     "output_type": "execute_result"
    },
    {
     "data": {
      "image/png": "[encoded data removed]",
      "text/plain": [
       "<Figure size 640x480 with 1 Axes>"
      ]
     },
     "metadata": {},
     "output_type": "display_data"
    }
   ],
   "source": [
    "df.plot.box(x='a',y='b')"
   ]
  },
  {
   "cell_type": "code",
   "execution_count": 138,
   "metadata": {},
   "outputs": [
    {
     "data": {
      "text/plain": [
       "<Axes: xlabel='a'>"
      ]
     },
     "execution_count": 138,
     "metadata": {},
     "output_type": "execute_result"
    },
    {
     "data": {
      "image/png": "[encoded data removed]",
      "text/plain": [
       "<Figure size 640x480 with 1 Axes>"
      ]
     },
     "metadata": {},
     "output_type": "display_data"
    }
   ],
   "source": [
    "df.plot.bar(x='a',y='b')"
   ]
  },
  {
   "cell_type": "code",
   "execution_count": 139,
   "metadata": {},
   "outputs": [
    {
     "data": {
      "text/plain": [
       "<Axes: ylabel='b'>"
      ]
     },
     "execution_count": 139,
     "metadata": {},
     "output_type": "execute_result"
    },
    {
     "data": {
      "image/png": "[encoded data removed]",
      "text/plain": [
       "<Figure size 640x480 with 1 Axes>"
      ]
     },
     "metadata": {},
     "output_type": "display_data"
    }
   ],
   "source": [
    "df.plot.pie(x='a',y='b')"
   ]
  },
  {
   "cell_type": "code",
   "execution_count": 140,
   "metadata": {},
   "outputs": [],
   "source": [
    "d=pd.Series([1,2,5,4,8,6,7,10,8,9])"
   ]
  },
  {
   "cell_type": "code",
   "execution_count": 141,
   "metadata": {},
   "outputs": [
    {
     "data": {
      "text/plain": [
       "<Axes: >"
      ]
     },
     "execution_count": 141,
     "metadata": {},
     "output_type": "execute_result"
    },
    {
     "data": {
      "image/png": "[encoded data removed]",
      "text/plain": [
       "<Figure size 640x480 with 1 Axes>"
      ]
     },
     "metadata": {},
     "output_type": "display_data"
    }
   ],
   "source": [
    "d.plot.pie()"
   ]
  },
  {
   "cell_type": "code",
   "execution_count": 142,
   "metadata": {},
   "outputs": [
    {
     "data": {
      "text/plain": [
       "<Axes: xlabel='a'>"
      ]
     },
     "execution_count": 142,
     "metadata": {},
     "output_type": "execute_result"
    },
    {
     "data": {
      "image/png": "[encoded data removed]",
      "text/plain": [
       "<Figure size 640x480 with 1 Axes>"
      ]
     },
     "metadata": {},
     "output_type": "display_data"
    }
   ],
   "source": [
    "df.plot.area(x='a',y='b')"
   ]
  },
  {
   "cell_type": "code",
   "execution_count": 143,
   "metadata": {},
   "outputs": [
    {
     "data": {
      "text/plain": [
       "<Axes: xlabel='a', ylabel='b'>"
      ]
     },
     "execution_count": 143,
     "metadata": {},
     "output_type": "execute_result"
    },
    {
     "data": {
      "image/png": "[encoded data removed]",
      "text/plain": [
       "<Figure size 640x480 with 2 Axes>"
      ]
     },
     "metadata": {},
     "output_type": "display_data"
    }
   ],
   "source": [
    "df.plot.hexbin(x='a',y='b')"
   ]
  },
  {
   "cell_type": "code",
   "execution_count": 144,
   "metadata": {},
   "outputs": [
    {
     "data": {
      "text/plain": [
       "<Axes: ylabel='Frequency'>"
      ]
     },
     "execution_count": 144,
     "metadata": {},
     "output_type": "execute_result"
    },
    {
     "data": {
      "image/png": "[encoded data removed]",
      "text/plain": [
       "<Figure size 640x480 with 1 Axes>"
      ]
     },
     "metadata": {},
     "output_type": "display_data"
    }
   ],
   "source": [
    "df.plot.hist(x='a',y='b')"
   ]
  },
  {
   "cell_type": "code",
   "execution_count": 148,
   "metadata": {},
   "outputs": [
    {
     "name": "stdout",
     "output_type": "stream",
     "text": [
      "Defaulting to user installation because normal site-packages is not writeableNote: you may need to restart the kernel to use updated packages.\n",
      "\n",
      "Collecting scipy\n",
      "  Downloading scipy-1.10.1-cp311-cp311-win_amd64.whl (42.2 MB)\n",
      "     ---------------------------------------- 0.0/42.2 MB ? eta -:--:--\n",
      "     ---------------------------------------- 0.0/42.2 MB ? eta -:--:--\n",
      "     ---------------------------------------- 0.0/42.2 MB ? eta -:--:--\n",
      "     ---------------------------------------- 0.1/42.2 MB 1.1 MB/s eta 0:00:39\n",
      "     ---------------------------------------- 0.1/42.2 MB 1.1 MB/s eta 0:00:39\n",
      "     --------------------------------------- 0.2/42.2 MB 958.4 kB/s eta 0:00:44\n",
      "     --------------------------------------- 0.2/42.2 MB 958.4 kB/s eta 0:00:44\n",
      "     --------------------------------------- 0.2/42.2 MB 958.4 kB/s eta 0:00:44\n",
      "     --------------------------------------- 0.2/42.2 MB 958.4 kB/s eta 0:00:44\n",
      "     --------------------------------------- 0.2/42.2 MB 958.4 kB/s eta 0:00:44\n",
      "     --------------------------------------- 0.2/42.2 MB 958.4 kB/s eta 0:00:44\n",
      "     --------------------------------------- 0.2/42.2 MB 430.1 kB/s eta 0:01:38\n",
      "     --------------------------------------- 0.4/42.2 MB 655.2 kB/s eta 0:01:04\n",
      "     --------------------------------------- 0.4/42.2 MB 706.8 kB/s eta 0:01:00\n",
      "     --------------------------------------- 0.5/42.2 MB 702.9 kB/s eta 0:01:00\n",
      "     --------------------------------------- 0.5/42.2 MB 702.9 kB/s eta 0:01:00\n",
      "      -------------------------------------- 0.6/42.2 MB 754.8 kB/s eta 0:00:56\n",
      "      -------------------------------------- 0.6/42.2 MB 754.8 kB/s eta 0:00:56\n",
      "      -------------------------------------- 0.6/42.2 MB 692.7 kB/s eta 0:01:01\n",
      "      -------------------------------------- 0.6/42.2 MB 692.7 kB/s eta 0:01:01\n",
      "      -------------------------------------- 0.7/42.2 MB 699.7 kB/s eta 0:01:00\n",
      "      -------------------------------------- 0.7/42.2 MB 699.7 kB/s eta 0:01:00\n",
      "      -------------------------------------- 0.7/42.2 MB 725.7 kB/s eta 0:00:58\n",
      "      -------------------------------------- 0.7/42.2 MB 725.7 kB/s eta 0:00:58\n",
      "      -------------------------------------- 0.7/42.2 MB 725.7 kB/s eta 0:00:58\n",
      "      -------------------------------------- 0.7/42.2 MB 725.7 kB/s eta 0:00:58\n",
      "      -------------------------------------- 0.7/42.2 MB 725.7 kB/s eta 0:00:58\n",
      "      -------------------------------------- 0.9/42.2 MB 737.9 kB/s eta 0:00:56\n",
      "      -------------------------------------- 0.9/42.2 MB 737.9 kB/s eta 0:00:56\n",
      "      -------------------------------------- 1.0/42.2 MB 748.0 kB/s eta 0:00:56\n",
      "      -------------------------------------- 1.1/42.2 MB 750.9 kB/s eta 0:00:55\n",
      "     - ------------------------------------- 1.1/42.2 MB 747.7 kB/s eta 0:00:56\n",
      "     - ------------------------------------- 1.2/42.2 MB 789.3 kB/s eta 0:00:53\n",
      "     - ------------------------------------- 1.2/42.2 MB 775.4 kB/s eta 0:00:53\n",
      "     - ------------------------------------- 1.3/42.2 MB 798.2 kB/s eta 0:00:52\n",
      "     - ------------------------------------- 1.3/42.2 MB 812.9 kB/s eta 0:00:51\n",
      "     - ------------------------------------- 1.4/42.2 MB 848.7 kB/s eta 0:00:49\n",
      "     - ------------------------------------- 1.4/42.2 MB 848.7 kB/s eta 0:00:49\n",
      "     - ------------------------------------- 1.5/42.2 MB 844.0 kB/s eta 0:00:49\n",
      "     - ------------------------------------- 1.5/42.2 MB 844.0 kB/s eta 0:00:49\n",
      "     - ------------------------------------- 1.6/42.2 MB 849.6 kB/s eta 0:00:48\n",
      "     - ------------------------------------- 1.6/42.2 MB 849.6 kB/s eta 0:00:48\n",
      "     - ------------------------------------- 1.7/42.2 MB 854.6 kB/s eta 0:00:48\n",
      "     - ------------------------------------- 1.8/42.2 MB 890.9 kB/s eta 0:00:46\n",
      "     - ------------------------------------- 1.9/42.2 MB 937.3 kB/s eta 0:00:44\n",
      "     - ------------------------------------- 2.0/42.2 MB 975.7 kB/s eta 0:00:42\n",
      "     -- ------------------------------------- 2.2/42.2 MB 1.0 MB/s eta 0:00:40\n",
      "     -- ------------------------------------- 2.3/42.2 MB 1.1 MB/s eta 0:00:38\n",
      "     -- ------------------------------------- 2.4/42.2 MB 1.1 MB/s eta 0:00:37\n",
      "     -- ------------------------------------- 2.5/42.2 MB 1.1 MB/s eta 0:00:36\n",
      "     -- ------------------------------------- 2.7/42.2 MB 1.2 MB/s eta 0:00:35\n",
      "     -- ------------------------------------- 2.8/42.2 MB 1.2 MB/s eta 0:00:34\n",
      "     -- ------------------------------------- 2.9/42.2 MB 1.2 MB/s eta 0:00:33\n",
      "     -- ------------------------------------- 3.1/42.2 MB 1.3 MB/s eta 0:00:32\n",
      "     --- ------------------------------------ 3.2/42.2 MB 1.3 MB/s eta 0:00:31\n",
      "     --- ------------------------------------ 3.3/42.2 MB 1.3 MB/s eta 0:00:30\n",
      "     --- ------------------------------------ 3.5/42.2 MB 1.3 MB/s eta 0:00:30\n",
      "     --- ------------------------------------ 3.6/42.2 MB 1.4 MB/s eta 0:00:29\n",
      "     --- ------------------------------------ 3.7/42.2 MB 1.4 MB/s eta 0:00:28\n",
      "     --- ------------------------------------ 3.9/42.2 MB 1.4 MB/s eta 0:00:28\n",
      "     --- ------------------------------------ 4.0/42.2 MB 1.4 MB/s eta 0:00:27\n",
      "     --- ------------------------------------ 4.2/42.2 MB 1.5 MB/s eta 0:00:26\n",
      "     ---- ----------------------------------- 4.3/42.2 MB 1.5 MB/s eta 0:00:26\n",
      "     ---- ----------------------------------- 4.4/42.2 MB 1.5 MB/s eta 0:00:25\n",
      "     ---- ----------------------------------- 4.6/42.2 MB 1.6 MB/s eta 0:00:25\n",
      "     ---- ----------------------------------- 4.8/42.2 MB 1.6 MB/s eta 0:00:24\n",
      "     ---- ----------------------------------- 4.9/42.2 MB 1.6 MB/s eta 0:00:24\n",
      "     ---- ----------------------------------- 5.0/42.2 MB 1.6 MB/s eta 0:00:23\n",
      "     ---- ----------------------------------- 5.2/42.2 MB 1.7 MB/s eta 0:00:23\n",
      "     ----- ---------------------------------- 5.3/42.2 MB 1.7 MB/s eta 0:00:23\n",
      "     ----- ---------------------------------- 5.5/42.2 MB 1.7 MB/s eta 0:00:22\n",
      "     ----- ---------------------------------- 5.7/42.2 MB 1.7 MB/s eta 0:00:22\n",
      "     ----- ---------------------------------- 5.8/42.2 MB 1.7 MB/s eta 0:00:21\n",
      "     ----- ---------------------------------- 6.0/42.2 MB 1.8 MB/s eta 0:00:21\n",
      "     ----- ---------------------------------- 6.1/42.2 MB 1.8 MB/s eta 0:00:21\n",
      "     ----- ---------------------------------- 6.3/42.2 MB 1.8 MB/s eta 0:00:20\n",
      "     ------ --------------------------------- 6.5/42.2 MB 1.8 MB/s eta 0:00:20\n",
      "     ------ --------------------------------- 6.6/42.2 MB 1.9 MB/s eta 0:00:20\n",
      "     ------ --------------------------------- 6.8/42.2 MB 1.9 MB/s eta 0:00:19\n",
      "     ------ --------------------------------- 7.0/42.2 MB 1.9 MB/s eta 0:00:19\n",
      "     ------ --------------------------------- 7.1/42.2 MB 1.9 MB/s eta 0:00:19\n",
      "     ------ --------------------------------- 7.3/42.2 MB 2.0 MB/s eta 0:00:18\n",
      "     ------- -------------------------------- 7.5/42.2 MB 2.0 MB/s eta 0:00:18\n",
      "     ------- -------------------------------- 7.6/42.2 MB 2.0 MB/s eta 0:00:18\n",
      "     ------- -------------------------------- 7.8/42.2 MB 2.0 MB/s eta 0:00:18\n",
      "     ------- -------------------------------- 8.0/42.2 MB 2.0 MB/s eta 0:00:17\n",
      "     ------- -------------------------------- 8.2/42.2 MB 2.1 MB/s eta 0:00:17\n",
      "     ------- -------------------------------- 8.4/42.2 MB 2.1 MB/s eta 0:00:17\n",
      "     -------- ------------------------------- 8.6/42.2 MB 2.1 MB/s eta 0:00:17\n",
      "     -------- ------------------------------- 8.7/42.2 MB 2.1 MB/s eta 0:00:16\n",
      "     -------- ------------------------------- 8.9/42.2 MB 2.1 MB/s eta 0:00:16\n",
      "     -------- ------------------------------- 9.1/42.2 MB 2.2 MB/s eta 0:00:16\n",
      "     -------- ------------------------------- 9.3/42.2 MB 2.2 MB/s eta 0:00:16\n",
      "     -------- ------------------------------- 9.5/42.2 MB 2.2 MB/s eta 0:00:15\n",
      "     --------- ------------------------------ 9.7/42.2 MB 2.2 MB/s eta 0:00:15\n",
      "     --------- ------------------------------ 9.8/42.2 MB 2.2 MB/s eta 0:00:15\n",
      "     --------- ------------------------------ 10.0/42.2 MB 2.3 MB/s eta 0:00:15\n",
      "     --------- ------------------------------ 10.2/42.2 MB 2.3 MB/s eta 0:00:15\n",
      "     --------- ------------------------------ 10.4/42.2 MB 2.4 MB/s eta 0:00:14\n",
      "     --------- ------------------------------ 10.5/42.2 MB 2.5 MB/s eta 0:00:13\n",
      "     ---------- ----------------------------- 10.6/42.2 MB 2.5 MB/s eta 0:00:13\n",
      "     ---------- ----------------------------- 10.8/42.2 MB 2.7 MB/s eta 0:00:12\n",
      "     ---------- ----------------------------- 11.0/42.2 MB 2.9 MB/s eta 0:00:11\n",
      "     ---------- ----------------------------- 11.2/42.2 MB 3.0 MB/s eta 0:00:11\n",
      "     ---------- ----------------------------- 11.4/42.2 MB 3.1 MB/s eta 0:00:11\n",
      "     ---------- ----------------------------- 11.6/42.2 MB 3.2 MB/s eta 0:00:10\n",
      "     ----------- ---------------------------- 11.8/42.2 MB 3.3 MB/s eta 0:00:10\n",
      "     ----------- ---------------------------- 12.0/42.2 MB 3.5 MB/s eta 0:00:09\n",
      "     ----------- ---------------------------- 12.1/42.2 MB 3.5 MB/s eta 0:00:09\n",
      "     ----------- ---------------------------- 12.3/42.2 MB 3.5 MB/s eta 0:00:09\n",
      "     ----------- ---------------------------- 12.5/42.2 MB 3.5 MB/s eta 0:00:09\n",
      "     ----------- ---------------------------- 12.6/42.2 MB 3.5 MB/s eta 0:00:09\n",
      "     ------------ --------------------------- 12.8/42.2 MB 3.6 MB/s eta 0:00:09\n",
      "     ------------ --------------------------- 13.0/42.2 MB 3.6 MB/s eta 0:00:09\n",
      "     ------------ --------------------------- 13.2/42.2 MB 3.6 MB/s eta 0:00:09\n",
      "     ------------ --------------------------- 13.4/42.2 MB 3.6 MB/s eta 0:00:08\n",
      "     ------------ --------------------------- 13.6/42.2 MB 3.7 MB/s eta 0:00:08\n",
      "     ------------- -------------------------- 13.8/42.2 MB 3.7 MB/s eta 0:00:08\n",
      "     ------------- -------------------------- 14.0/42.2 MB 3.7 MB/s eta 0:00:08\n",
      "     ------------- -------------------------- 14.2/42.2 MB 3.7 MB/s eta 0:00:08\n",
      "     ------------- -------------------------- 14.3/42.2 MB 3.7 MB/s eta 0:00:08\n",
      "     ------------- -------------------------- 14.5/42.2 MB 3.8 MB/s eta 0:00:08\n",
      "     ------------- -------------------------- 14.8/42.2 MB 3.8 MB/s eta 0:00:08\n",
      "     -------------- ------------------------- 14.9/42.2 MB 3.8 MB/s eta 0:00:08\n",
      "     -------------- ------------------------- 15.0/42.2 MB 3.8 MB/s eta 0:00:08\n",
      "     -------------- ------------------------- 15.2/42.2 MB 3.8 MB/s eta 0:00:08\n",
      "     -------------- ------------------------- 15.4/42.2 MB 3.8 MB/s eta 0:00:08\n",
      "     -------------- ------------------------- 15.6/42.2 MB 3.9 MB/s eta 0:00:07\n",
      "     -------------- ------------------------- 15.8/42.2 MB 3.9 MB/s eta 0:00:07\n",
      "     --------------- ------------------------ 16.0/42.2 MB 3.9 MB/s eta 0:00:07\n",
      "     --------------- ------------------------ 16.3/42.2 MB 4.0 MB/s eta 0:00:07\n",
      "     --------------- ------------------------ 16.5/42.2 MB 4.0 MB/s eta 0:00:07\n",
      "     --------------- ------------------------ 16.8/42.2 MB 4.0 MB/s eta 0:00:07\n",
      "     ---------------- ----------------------- 17.0/42.2 MB 4.0 MB/s eta 0:00:07\n",
      "     ---------------- ----------------------- 17.2/42.2 MB 4.1 MB/s eta 0:00:07\n",
      "     ---------------- ----------------------- 17.5/42.2 MB 4.1 MB/s eta 0:00:07\n",
      "     ---------------- ----------------------- 17.7/42.2 MB 4.1 MB/s eta 0:00:06\n",
      "     ---------------- ----------------------- 17.9/42.2 MB 4.2 MB/s eta 0:00:06\n",
      "     ----------------- ---------------------- 18.1/42.2 MB 4.2 MB/s eta 0:00:06\n",
      "     ----------------- ---------------------- 18.3/42.2 MB 4.2 MB/s eta 0:00:06\n",
      "     ----------------- ---------------------- 18.5/42.2 MB 4.2 MB/s eta 0:00:06\n",
      "     ----------------- ---------------------- 18.8/42.2 MB 4.2 MB/s eta 0:00:06\n",
      "     ----------------- ---------------------- 19.0/42.2 MB 4.3 MB/s eta 0:00:06\n",
      "     ------------------ --------------------- 19.2/42.2 MB 4.3 MB/s eta 0:00:06\n",
      "     ------------------ --------------------- 19.5/42.2 MB 4.3 MB/s eta 0:00:06\n",
      "     ------------------ --------------------- 19.7/42.2 MB 4.3 MB/s eta 0:00:06\n",
      "     ------------------ --------------------- 20.0/42.2 MB 4.3 MB/s eta 0:00:06\n",
      "     ------------------- -------------------- 20.2/42.2 MB 4.4 MB/s eta 0:00:06\n",
      "     ------------------- -------------------- 20.5/42.2 MB 4.4 MB/s eta 0:00:05\n",
      "     ------------------- -------------------- 20.7/42.2 MB 4.5 MB/s eta 0:00:05\n",
      "     ------------------- -------------------- 21.0/42.2 MB 4.5 MB/s eta 0:00:05\n",
      "     -------------------- ------------------- 21.2/42.2 MB 4.5 MB/s eta 0:00:05\n",
      "     -------------------- ------------------- 21.5/42.2 MB 4.6 MB/s eta 0:00:05\n",
      "     -------------------- ------------------- 21.8/42.2 MB 4.6 MB/s eta 0:00:05\n",
      "     -------------------- ------------------- 22.0/42.2 MB 4.6 MB/s eta 0:00:05\n",
      "     --------------------- ------------------ 22.4/42.2 MB 4.7 MB/s eta 0:00:05\n",
      "     --------------------- ------------------ 22.6/42.2 MB 4.7 MB/s eta 0:00:05\n",
      "     --------------------- ------------------ 22.9/42.2 MB 4.8 MB/s eta 0:00:05\n",
      "     --------------------- ------------------ 23.1/42.2 MB 4.8 MB/s eta 0:00:04\n",
      "     ---------------------- ----------------- 23.4/42.2 MB 4.9 MB/s eta 0:00:04\n",
      "     ---------------------- ----------------- 23.6/42.2 MB 4.9 MB/s eta 0:00:04\n",
      "     ---------------------- ----------------- 23.9/42.2 MB 5.0 MB/s eta 0:00:04\n",
      "     ---------------------- ----------------- 24.1/42.2 MB 5.0 MB/s eta 0:00:04\n",
      "     ----------------------- ---------------- 24.4/42.2 MB 5.0 MB/s eta 0:00:04\n",
      "     ----------------------- ---------------- 24.6/42.2 MB 5.1 MB/s eta 0:00:04\n",
      "     ----------------------- ---------------- 24.9/42.2 MB 5.2 MB/s eta 0:00:04\n",
      "     ----------------------- ---------------- 25.2/42.2 MB 5.2 MB/s eta 0:00:04\n",
      "     ------------------------ --------------- 25.5/42.2 MB 5.4 MB/s eta 0:00:04\n",
      "     ------------------------ --------------- 25.7/42.2 MB 5.4 MB/s eta 0:00:04\n",
      "     ------------------------ --------------- 25.9/42.2 MB 5.4 MB/s eta 0:00:04\n",
      "     ------------------------ --------------- 26.2/42.2 MB 5.4 MB/s eta 0:00:03\n",
      "     ------------------------- -------------- 26.5/42.2 MB 5.4 MB/s eta 0:00:03\n",
      "     ------------------------- -------------- 26.8/42.2 MB 5.5 MB/s eta 0:00:03\n",
      "     ------------------------- -------------- 27.1/42.2 MB 5.5 MB/s eta 0:00:03\n",
      "     ------------------------- -------------- 27.4/42.2 MB 5.5 MB/s eta 0:00:03\n",
      "     -------------------------- ------------- 27.7/42.2 MB 5.5 MB/s eta 0:00:03\n",
      "     -------------------------- ------------- 27.9/42.2 MB 5.5 MB/s eta 0:00:03\n",
      "     -------------------------- ------------- 28.3/42.2 MB 5.6 MB/s eta 0:00:03\n",
      "     --------------------------- ------------ 28.5/42.2 MB 5.7 MB/s eta 0:00:03\n",
      "     --------------------------- ------------ 28.9/42.2 MB 5.7 MB/s eta 0:00:03\n",
      "     --------------------------- ------------ 29.1/42.2 MB 5.8 MB/s eta 0:00:03\n",
      "     --------------------------- ------------ 29.4/42.2 MB 5.8 MB/s eta 0:00:03\n",
      "     ---------------------------- ----------- 29.8/42.2 MB 5.9 MB/s eta 0:00:03\n",
      "     ---------------------------- ----------- 30.0/42.2 MB 5.9 MB/s eta 0:00:03\n",
      "     ---------------------------- ----------- 30.3/42.2 MB 5.9 MB/s eta 0:00:03\n",
      "     ---------------------------- ----------- 30.6/42.2 MB 5.9 MB/s eta 0:00:02\n",
      "     ----------------------------- ---------- 30.9/42.2 MB 6.0 MB/s eta 0:00:02\n",
      "     ----------------------------- ---------- 31.2/42.2 MB 6.0 MB/s eta 0:00:02\n",
      "     ----------------------------- ---------- 31.5/42.2 MB 6.0 MB/s eta 0:00:02\n",
      "     ------------------------------ --------- 31.7/42.2 MB 6.0 MB/s eta 0:00:02\n",
      "     ------------------------------ --------- 32.1/42.2 MB 6.1 MB/s eta 0:00:02\n",
      "     ------------------------------ --------- 32.4/42.2 MB 6.1 MB/s eta 0:00:02\n",
      "     ------------------------------ --------- 32.6/42.2 MB 6.1 MB/s eta 0:00:02\n",
      "     ------------------------------- -------- 33.0/42.2 MB 6.2 MB/s eta 0:00:02\n",
      "     ------------------------------- -------- 33.3/42.2 MB 6.2 MB/s eta 0:00:02\n",
      "     ------------------------------- -------- 33.6/42.2 MB 6.2 MB/s eta 0:00:02\n",
      "     -------------------------------- ------- 33.9/42.2 MB 6.3 MB/s eta 0:00:02\n",
      "     -------------------------------- ------- 34.2/42.2 MB 6.3 MB/s eta 0:00:02\n",
      "     -------------------------------- ------- 34.6/42.2 MB 6.4 MB/s eta 0:00:02\n",
      "     --------------------------------- ------ 34.9/42.2 MB 6.4 MB/s eta 0:00:02\n",
      "     --------------------------------- ------ 35.2/42.2 MB 6.5 MB/s eta 0:00:02\n",
      "     --------------------------------- ------ 35.5/42.2 MB 6.4 MB/s eta 0:00:02\n",
      "     --------------------------------- ------ 35.9/42.2 MB 6.5 MB/s eta 0:00:01\n",
      "     ---------------------------------- ----- 36.2/42.2 MB 6.6 MB/s eta 0:00:01\n",
      "     ---------------------------------- ----- 36.5/42.2 MB 6.5 MB/s eta 0:00:01\n",
      "     ---------------------------------- ----- 36.8/42.2 MB 6.6 MB/s eta 0:00:01\n",
      "     ----------------------------------- ---- 37.1/42.2 MB 6.6 MB/s eta 0:00:01\n",
      "     ----------------------------------- ---- 37.4/42.2 MB 6.7 MB/s eta 0:00:01\n",
      "     ----------------------------------- ---- 37.7/42.2 MB 6.7 MB/s eta 0:00:01\n",
      "     ------------------------------------ --- 38.1/42.2 MB 6.7 MB/s eta 0:00:01\n",
      "     ------------------------------------ --- 38.4/42.2 MB 6.7 MB/s eta 0:00:01\n",
      "     ------------------------------------ --- 38.7/42.2 MB 6.8 MB/s eta 0:00:01\n",
      "     ------------------------------------ --- 39.0/42.2 MB 6.8 MB/s eta 0:00:01\n",
      "     ------------------------------------- -- 39.1/42.2 MB 6.7 MB/s eta 0:00:01\n",
      "     ------------------------------------- -- 39.6/42.2 MB 6.7 MB/s eta 0:00:01\n",
      "     ------------------------------------- -- 39.8/42.2 MB 6.7 MB/s eta 0:00:01\n",
      "     ------------------------------------- -- 40.1/42.2 MB 6.6 MB/s eta 0:00:01\n",
      "     -------------------------------------- - 40.3/42.2 MB 6.6 MB/s eta 0:00:01\n",
      "     -------------------------------------- - 40.6/42.2 MB 6.6 MB/s eta 0:00:01\n",
      "     -------------------------------------- - 40.8/42.2 MB 6.6 MB/s eta 0:00:01\n",
      "     -------------------------------------- - 41.1/42.2 MB 6.5 MB/s eta 0:00:01\n",
      "     ---------------------------------------  41.3/42.2 MB 6.5 MB/s eta 0:00:01\n",
      "     ---------------------------------------  41.6/42.2 MB 6.5 MB/s eta 0:00:01\n",
      "     ---------------------------------------  41.9/42.2 MB 6.5 MB/s eta 0:00:01\n",
      "     ---------------------------------------  42.0/42.2 MB 6.5 MB/s eta 0:00:01\n",
      "     ---------------------------------------  42.2/42.2 MB 6.4 MB/s eta 0:00:01\n",
      "     ---------------------------------------  42.2/42.2 MB 6.4 MB/s eta 0:00:01\n",
      "     ---------------------------------------  42.2/42.2 MB 6.4 MB/s eta 0:00:01\n",
      "     ---------------------------------------  42.2/42.2 MB 6.4 MB/s eta 0:00:01\n",
      "     ---------------------------------------  42.2/42.2 MB 6.4 MB/s eta 0:00:01\n",
      "     ---------------------------------------- 42.2/42.2 MB 5.5 MB/s eta 0:00:00\n",
      "Requirement already satisfied: numpy<1.27.0,>=1.19.5 in c:\\users\\tushar.ahire01\\appdata\\roaming\\python\\python311\\site-packages (from scipy) (1.24.2)\n",
      "Installing collected packages: scipy\n",
      "Successfully installed scipy-1.10.1\n"
     ]
    }
   ],
   "source": [
    "pip install scipy"
   ]
  },
  {
   "cell_type": "code",
   "execution_count": 149,
   "metadata": {},
   "outputs": [
    {
     "data": {
      "text/plain": [
       "<Axes: ylabel='Density'>"
      ]
     },
     "execution_count": 149,
     "metadata": {},
     "output_type": "execute_result"
    },
    {
     "data": {
      "image/png": "[encoded data removed]",
      "text/plain": [
       "<Figure size 640x480 with 1 Axes>"
      ]
     },
     "metadata": {},
     "output_type": "display_data"
    }
   ],
   "source": [
    "\n",
    "import scipy\n",
    "df.plot.kde(x='a',y='b')"
   ]
  },
  {
   "cell_type": "code",
   "execution_count": null,
   "metadata": {},
   "outputs": [],
   "source": []
  }
 ],
 "metadata": {
  "kernelspec": {
   "display_name": "Python 3",
   "language": "python",
   "name": "python3"
  },
  "language_info": {
   "codemirror_mode": {
    "name": "ipython",
    "version": 3
   },
   "file_extension": ".py",
   "mimetype": "text/x-python",
   "name": "python",
   "nbconvert_exporter": "python",
   "pygments_lexer": "ipython3",
   "version": "3.11.1"
  },
  "orig_nbformat": 4
 },
 "nbformat": 4,
 "nbformat_minor": 2
}
